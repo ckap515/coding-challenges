{
 "cells": [
  {
   "cell_type": "markdown",
   "metadata": {},
   "source": [
    "# Import necessary modules and packages"
   ]
  },
  {
   "cell_type": "code",
   "execution_count": 1,
   "metadata": {},
   "outputs": [],
   "source": [
    "import pandas as pd\n",
    "import numpy as np\n",
    "import re\n",
    "import seaborn as sns\n",
    "import matplotlib.pyplot as plt\n",
    "from sklearn.model_selection import train_test_split\n",
    "from sklearn.linear_model import LogisticRegression\n",
    "from sklearn.ensemble import RandomForestClassifier\n",
    "from sklearn.metrics import classification_report\n",
    "from sklearn.metrics import accuracy_score\n",
    "from sklearn.metrics import confusion_matrix"
   ]
  },
  {
   "cell_type": "markdown",
   "metadata": {},
   "source": [
    "# Read the data"
   ]
  },
  {
   "cell_type": "code",
   "execution_count": 2,
   "metadata": {},
   "outputs": [
    {
     "name": "stderr",
     "output_type": "stream",
     "text": [
      "C:\\Users\\sorin\\AppData\\Local\\Continuum\\anaconda3\\lib\\site-packages\\IPython\\core\\magics\\execution.py:1310: DtypeWarning: Columns (29,30) have mixed types.Specify dtype option on import or set low_memory=False.\n",
      "  exec(code, glob, local_ns)\n"
     ]
    },
    {
     "name": "stdout",
     "output_type": "stream",
     "text": [
      "Wall time: 7.24 s\n"
     ]
    }
   ],
   "source": [
    "%%time\n",
    "pitches = pd.read_csv('C:/Users/sorin/Desktop/swish/pitches_folder_(1)/pitches_folder/pitches.csv')\n",
    "# pitches = pd.read_csv('<path to dataset>/pitches.csv')"
   ]
  },
  {
   "cell_type": "code",
   "execution_count": 3,
   "metadata": {},
   "outputs": [
    {
     "data": {
      "text/plain": [
       "718961"
      ]
     },
     "execution_count": 3,
     "metadata": {},
     "output_type": "execute_result"
    }
   ],
   "source": [
    "len(pitches)"
   ]
  },
  {
   "cell_type": "code",
   "execution_count": 4,
   "metadata": {},
   "outputs": [
    {
     "data": {
      "text/html": [
       "<div>\n",
       "<style scoped>\n",
       "    .dataframe tbody tr th:only-of-type {\n",
       "        vertical-align: middle;\n",
       "    }\n",
       "\n",
       "    .dataframe tbody tr th {\n",
       "        vertical-align: top;\n",
       "    }\n",
       "\n",
       "    .dataframe thead th {\n",
       "        text-align: right;\n",
       "    }\n",
       "</style>\n",
       "<table border=\"1\" class=\"dataframe\">\n",
       "  <thead>\n",
       "    <tr style=\"text-align: right;\">\n",
       "      <th></th>\n",
       "      <th>uid</th>\n",
       "      <th>game_pk</th>\n",
       "      <th>year</th>\n",
       "      <th>date</th>\n",
       "      <th>team_id_b</th>\n",
       "      <th>team_id_p</th>\n",
       "      <th>inning</th>\n",
       "      <th>top</th>\n",
       "      <th>at_bat_num</th>\n",
       "      <th>pcount_at_bat</th>\n",
       "      <th>...</th>\n",
       "      <th>runner7_start</th>\n",
       "      <th>runner7_end</th>\n",
       "      <th>runner7_event</th>\n",
       "      <th>runner7_score</th>\n",
       "      <th>runner7_rbi</th>\n",
       "      <th>runner7_earned</th>\n",
       "      <th>created_at</th>\n",
       "      <th>added_at</th>\n",
       "      <th>modified_at</th>\n",
       "      <th>modified_by</th>\n",
       "    </tr>\n",
       "  </thead>\n",
       "  <tbody>\n",
       "    <tr>\n",
       "      <th>0</th>\n",
       "      <td>14143226</td>\n",
       "      <td>286874</td>\n",
       "      <td>2011</td>\n",
       "      <td>2011-03-31</td>\n",
       "      <td>108</td>\n",
       "      <td>118</td>\n",
       "      <td>1</td>\n",
       "      <td>1</td>\n",
       "      <td>1</td>\n",
       "      <td>1</td>\n",
       "      <td>...</td>\n",
       "      <td>NaN</td>\n",
       "      <td>NaN</td>\n",
       "      <td>NaN</td>\n",
       "      <td>NaN</td>\n",
       "      <td>NaN</td>\n",
       "      <td>NaN</td>\n",
       "      <td>2016-03-03 21:33:20</td>\n",
       "      <td>2016-03-03 21:33:20</td>\n",
       "      <td>2016-03-03 21:33:20</td>\n",
       "      <td>1</td>\n",
       "    </tr>\n",
       "    <tr>\n",
       "      <th>1</th>\n",
       "      <td>14143227</td>\n",
       "      <td>286874</td>\n",
       "      <td>2011</td>\n",
       "      <td>2011-03-31</td>\n",
       "      <td>108</td>\n",
       "      <td>118</td>\n",
       "      <td>1</td>\n",
       "      <td>1</td>\n",
       "      <td>1</td>\n",
       "      <td>2</td>\n",
       "      <td>...</td>\n",
       "      <td>NaN</td>\n",
       "      <td>NaN</td>\n",
       "      <td>NaN</td>\n",
       "      <td>NaN</td>\n",
       "      <td>NaN</td>\n",
       "      <td>NaN</td>\n",
       "      <td>2016-03-03 21:33:20</td>\n",
       "      <td>2016-03-03 21:33:20</td>\n",
       "      <td>2016-03-03 21:33:20</td>\n",
       "      <td>1</td>\n",
       "    </tr>\n",
       "    <tr>\n",
       "      <th>2</th>\n",
       "      <td>14143228</td>\n",
       "      <td>286874</td>\n",
       "      <td>2011</td>\n",
       "      <td>2011-03-31</td>\n",
       "      <td>108</td>\n",
       "      <td>118</td>\n",
       "      <td>1</td>\n",
       "      <td>1</td>\n",
       "      <td>1</td>\n",
       "      <td>3</td>\n",
       "      <td>...</td>\n",
       "      <td>NaN</td>\n",
       "      <td>NaN</td>\n",
       "      <td>NaN</td>\n",
       "      <td>NaN</td>\n",
       "      <td>NaN</td>\n",
       "      <td>NaN</td>\n",
       "      <td>2016-03-03 21:33:20</td>\n",
       "      <td>2016-03-03 21:33:20</td>\n",
       "      <td>2016-03-03 21:33:20</td>\n",
       "      <td>1</td>\n",
       "    </tr>\n",
       "    <tr>\n",
       "      <th>3</th>\n",
       "      <td>14143229</td>\n",
       "      <td>286874</td>\n",
       "      <td>2011</td>\n",
       "      <td>2011-03-31</td>\n",
       "      <td>108</td>\n",
       "      <td>118</td>\n",
       "      <td>1</td>\n",
       "      <td>1</td>\n",
       "      <td>1</td>\n",
       "      <td>4</td>\n",
       "      <td>...</td>\n",
       "      <td>NaN</td>\n",
       "      <td>NaN</td>\n",
       "      <td>NaN</td>\n",
       "      <td>NaN</td>\n",
       "      <td>NaN</td>\n",
       "      <td>NaN</td>\n",
       "      <td>2016-03-03 21:33:20</td>\n",
       "      <td>2016-03-03 21:33:20</td>\n",
       "      <td>2016-03-03 21:33:20</td>\n",
       "      <td>1</td>\n",
       "    </tr>\n",
       "    <tr>\n",
       "      <th>4</th>\n",
       "      <td>14143230</td>\n",
       "      <td>286874</td>\n",
       "      <td>2011</td>\n",
       "      <td>2011-03-31</td>\n",
       "      <td>108</td>\n",
       "      <td>118</td>\n",
       "      <td>1</td>\n",
       "      <td>1</td>\n",
       "      <td>2</td>\n",
       "      <td>1</td>\n",
       "      <td>...</td>\n",
       "      <td>NaN</td>\n",
       "      <td>NaN</td>\n",
       "      <td>NaN</td>\n",
       "      <td>NaN</td>\n",
       "      <td>NaN</td>\n",
       "      <td>NaN</td>\n",
       "      <td>2016-03-03 21:33:20</td>\n",
       "      <td>2016-03-03 21:33:20</td>\n",
       "      <td>2016-03-03 21:33:20</td>\n",
       "      <td>1</td>\n",
       "    </tr>\n",
       "  </tbody>\n",
       "</table>\n",
       "<p>5 rows × 125 columns</p>\n",
       "</div>"
      ],
      "text/plain": [
       "        uid  game_pk  year        date  team_id_b  team_id_p  inning  top  \\\n",
       "0  14143226   286874  2011  2011-03-31        108        118       1    1   \n",
       "1  14143227   286874  2011  2011-03-31        108        118       1    1   \n",
       "2  14143228   286874  2011  2011-03-31        108        118       1    1   \n",
       "3  14143229   286874  2011  2011-03-31        108        118       1    1   \n",
       "4  14143230   286874  2011  2011-03-31        108        118       1    1   \n",
       "\n",
       "   at_bat_num  pcount_at_bat  ...  runner7_start  runner7_end  runner7_event  \\\n",
       "0           1              1  ...            NaN          NaN            NaN   \n",
       "1           1              2  ...            NaN          NaN            NaN   \n",
       "2           1              3  ...            NaN          NaN            NaN   \n",
       "3           1              4  ...            NaN          NaN            NaN   \n",
       "4           2              1  ...            NaN          NaN            NaN   \n",
       "\n",
       "   runner7_score  runner7_rbi  runner7_earned           created_at  \\\n",
       "0            NaN          NaN             NaN  2016-03-03 21:33:20   \n",
       "1            NaN          NaN             NaN  2016-03-03 21:33:20   \n",
       "2            NaN          NaN             NaN  2016-03-03 21:33:20   \n",
       "3            NaN          NaN             NaN  2016-03-03 21:33:20   \n",
       "4            NaN          NaN             NaN  2016-03-03 21:33:20   \n",
       "\n",
       "              added_at          modified_at  modified_by  \n",
       "0  2016-03-03 21:33:20  2016-03-03 21:33:20            1  \n",
       "1  2016-03-03 21:33:20  2016-03-03 21:33:20            1  \n",
       "2  2016-03-03 21:33:20  2016-03-03 21:33:20            1  \n",
       "3  2016-03-03 21:33:20  2016-03-03 21:33:20            1  \n",
       "4  2016-03-03 21:33:20  2016-03-03 21:33:20            1  \n",
       "\n",
       "[5 rows x 125 columns]"
      ]
     },
     "execution_count": 4,
     "metadata": {},
     "output_type": "execute_result"
    }
   ],
   "source": [
    "pitches.head()"
   ]
  },
  {
   "cell_type": "markdown",
   "metadata": {},
   "source": [
    "# Objective and initial notes"
   ]
  },
  {
   "cell_type": "markdown",
   "metadata": {},
   "source": [
    "The goal is to build a model that can predict the probability that the next pitch will be of a particular type, given data about the game situation. There are a few ways to build a **multiclass classification model**, including multinomial logistic regression, and random forest classification.\n",
    "\n",
    "The dataset contains over 100 fields, including some that are available prior to the pitch being thrown, and some that are not available until after. Since the end goal is to be able to predict a pitch type before the pitch is thrown (possibly in order to place a bet), **only factors that are available before the pitch is thrown will be considered when building the model**.\n",
    "\n",
    "The dataset may contain cases where the pitch type was a knuckleball. This pitch is a bit different from others, in that knuckleball pitchers (not very common) tend to use them almost exclusively, and all other pitchers pretty much never throw them. With this in mind, **all knuckleball pitchers, and all of their associated pitches, will be removed from the dataset**. Knuckleball pitchers would be better off with their own, separate model (I would recommend a binomial logistic regression, with the possible outcomes being \"pitch was a knuckleball\" and \"pitch was any other pitch\")."
   ]
  },
  {
   "cell_type": "markdown",
   "metadata": {},
   "source": [
    "# Initial data investigation"
   ]
  },
  {
   "cell_type": "code",
   "execution_count": 5,
   "metadata": {},
   "outputs": [
    {
     "data": {
      "text/html": [
       "<div>\n",
       "<style scoped>\n",
       "    .dataframe tbody tr th:only-of-type {\n",
       "        vertical-align: middle;\n",
       "    }\n",
       "\n",
       "    .dataframe tbody tr th {\n",
       "        vertical-align: top;\n",
       "    }\n",
       "\n",
       "    .dataframe thead th {\n",
       "        text-align: right;\n",
       "    }\n",
       "</style>\n",
       "<table border=\"1\" class=\"dataframe\">\n",
       "  <thead>\n",
       "    <tr style=\"text-align: right;\">\n",
       "      <th></th>\n",
       "      <th>uid</th>\n",
       "      <th>game_pk</th>\n",
       "      <th>year</th>\n",
       "      <th>team_id_b</th>\n",
       "      <th>team_id_p</th>\n",
       "      <th>inning</th>\n",
       "      <th>top</th>\n",
       "      <th>at_bat_num</th>\n",
       "      <th>pcount_at_bat</th>\n",
       "      <th>pcount_pitcher</th>\n",
       "      <th>...</th>\n",
       "      <th>runner6_rbi</th>\n",
       "      <th>runner6_earned</th>\n",
       "      <th>runner7_id</th>\n",
       "      <th>runner7_start</th>\n",
       "      <th>runner7_end</th>\n",
       "      <th>runner7_event</th>\n",
       "      <th>runner7_score</th>\n",
       "      <th>runner7_rbi</th>\n",
       "      <th>runner7_earned</th>\n",
       "      <th>modified_by</th>\n",
       "    </tr>\n",
       "  </thead>\n",
       "  <tbody>\n",
       "    <tr>\n",
       "      <th>count</th>\n",
       "      <td>7.189610e+05</td>\n",
       "      <td>718961.000000</td>\n",
       "      <td>718961.0</td>\n",
       "      <td>718961.000000</td>\n",
       "      <td>718961.000000</td>\n",
       "      <td>718961.000000</td>\n",
       "      <td>718961.000000</td>\n",
       "      <td>718961.000000</td>\n",
       "      <td>718961.000000</td>\n",
       "      <td>718961.000000</td>\n",
       "      <td>...</td>\n",
       "      <td>0.0</td>\n",
       "      <td>0.0</td>\n",
       "      <td>0.0</td>\n",
       "      <td>0.0</td>\n",
       "      <td>0.0</td>\n",
       "      <td>0.0</td>\n",
       "      <td>0.0</td>\n",
       "      <td>0.0</td>\n",
       "      <td>0.0</td>\n",
       "      <td>718961.0</td>\n",
       "    </tr>\n",
       "    <tr>\n",
       "      <th>mean</th>\n",
       "      <td>1.701980e+07</td>\n",
       "      <td>288557.611823</td>\n",
       "      <td>2011.0</td>\n",
       "      <td>128.787182</td>\n",
       "      <td>128.757296</td>\n",
       "      <td>5.033796</td>\n",
       "      <td>0.508900</td>\n",
       "      <td>39.301513</td>\n",
       "      <td>2.865276</td>\n",
       "      <td>37.357196</td>\n",
       "      <td>...</td>\n",
       "      <td>NaN</td>\n",
       "      <td>NaN</td>\n",
       "      <td>NaN</td>\n",
       "      <td>NaN</td>\n",
       "      <td>NaN</td>\n",
       "      <td>NaN</td>\n",
       "      <td>NaN</td>\n",
       "      <td>NaN</td>\n",
       "      <td>NaN</td>\n",
       "      <td>1.0</td>\n",
       "    </tr>\n",
       "    <tr>\n",
       "      <th>std</th>\n",
       "      <td>1.665143e+06</td>\n",
       "      <td>3642.210956</td>\n",
       "      <td>0.0</td>\n",
       "      <td>14.281039</td>\n",
       "      <td>14.306711</td>\n",
       "      <td>2.692326</td>\n",
       "      <td>0.499921</td>\n",
       "      <td>23.320725</td>\n",
       "      <td>1.715068</td>\n",
       "      <td>30.690569</td>\n",
       "      <td>...</td>\n",
       "      <td>NaN</td>\n",
       "      <td>NaN</td>\n",
       "      <td>NaN</td>\n",
       "      <td>NaN</td>\n",
       "      <td>NaN</td>\n",
       "      <td>NaN</td>\n",
       "      <td>NaN</td>\n",
       "      <td>NaN</td>\n",
       "      <td>NaN</td>\n",
       "      <td>0.0</td>\n",
       "    </tr>\n",
       "    <tr>\n",
       "      <th>min</th>\n",
       "      <td>1.414323e+07</td>\n",
       "      <td>286874.000000</td>\n",
       "      <td>2011.0</td>\n",
       "      <td>108.000000</td>\n",
       "      <td>108.000000</td>\n",
       "      <td>1.000000</td>\n",
       "      <td>0.000000</td>\n",
       "      <td>1.000000</td>\n",
       "      <td>1.000000</td>\n",
       "      <td>1.000000</td>\n",
       "      <td>...</td>\n",
       "      <td>NaN</td>\n",
       "      <td>NaN</td>\n",
       "      <td>NaN</td>\n",
       "      <td>NaN</td>\n",
       "      <td>NaN</td>\n",
       "      <td>NaN</td>\n",
       "      <td>NaN</td>\n",
       "      <td>NaN</td>\n",
       "      <td>NaN</td>\n",
       "      <td>1.0</td>\n",
       "    </tr>\n",
       "    <tr>\n",
       "      <th>25%</th>\n",
       "      <td>1.557356e+07</td>\n",
       "      <td>287507.000000</td>\n",
       "      <td>2011.0</td>\n",
       "      <td>115.000000</td>\n",
       "      <td>115.000000</td>\n",
       "      <td>3.000000</td>\n",
       "      <td>0.000000</td>\n",
       "      <td>19.000000</td>\n",
       "      <td>1.000000</td>\n",
       "      <td>11.000000</td>\n",
       "      <td>...</td>\n",
       "      <td>NaN</td>\n",
       "      <td>NaN</td>\n",
       "      <td>NaN</td>\n",
       "      <td>NaN</td>\n",
       "      <td>NaN</td>\n",
       "      <td>NaN</td>\n",
       "      <td>NaN</td>\n",
       "      <td>NaN</td>\n",
       "      <td>NaN</td>\n",
       "      <td>1.0</td>\n",
       "    </tr>\n",
       "    <tr>\n",
       "      <th>50%</th>\n",
       "      <td>1.703106e+07</td>\n",
       "      <td>288129.000000</td>\n",
       "      <td>2011.0</td>\n",
       "      <td>134.000000</td>\n",
       "      <td>134.000000</td>\n",
       "      <td>5.000000</td>\n",
       "      <td>1.000000</td>\n",
       "      <td>39.000000</td>\n",
       "      <td>3.000000</td>\n",
       "      <td>28.000000</td>\n",
       "      <td>...</td>\n",
       "      <td>NaN</td>\n",
       "      <td>NaN</td>\n",
       "      <td>NaN</td>\n",
       "      <td>NaN</td>\n",
       "      <td>NaN</td>\n",
       "      <td>NaN</td>\n",
       "      <td>NaN</td>\n",
       "      <td>NaN</td>\n",
       "      <td>NaN</td>\n",
       "      <td>1.0</td>\n",
       "    </tr>\n",
       "    <tr>\n",
       "      <th>75%</th>\n",
       "      <td>1.845894e+07</td>\n",
       "      <td>288749.000000</td>\n",
       "      <td>2011.0</td>\n",
       "      <td>141.000000</td>\n",
       "      <td>141.000000</td>\n",
       "      <td>7.000000</td>\n",
       "      <td>1.000000</td>\n",
       "      <td>58.000000</td>\n",
       "      <td>4.000000</td>\n",
       "      <td>61.000000</td>\n",
       "      <td>...</td>\n",
       "      <td>NaN</td>\n",
       "      <td>NaN</td>\n",
       "      <td>NaN</td>\n",
       "      <td>NaN</td>\n",
       "      <td>NaN</td>\n",
       "      <td>NaN</td>\n",
       "      <td>NaN</td>\n",
       "      <td>NaN</td>\n",
       "      <td>NaN</td>\n",
       "      <td>1.0</td>\n",
       "    </tr>\n",
       "    <tr>\n",
       "      <th>max</th>\n",
       "      <td>1.983820e+07</td>\n",
       "      <td>317073.000000</td>\n",
       "      <td>2011.0</td>\n",
       "      <td>158.000000</td>\n",
       "      <td>158.000000</td>\n",
       "      <td>19.000000</td>\n",
       "      <td>1.000000</td>\n",
       "      <td>158.000000</td>\n",
       "      <td>16.000000</td>\n",
       "      <td>133.000000</td>\n",
       "      <td>...</td>\n",
       "      <td>NaN</td>\n",
       "      <td>NaN</td>\n",
       "      <td>NaN</td>\n",
       "      <td>NaN</td>\n",
       "      <td>NaN</td>\n",
       "      <td>NaN</td>\n",
       "      <td>NaN</td>\n",
       "      <td>NaN</td>\n",
       "      <td>NaN</td>\n",
       "      <td>1.0</td>\n",
       "    </tr>\n",
       "  </tbody>\n",
       "</table>\n",
       "<p>8 rows × 105 columns</p>\n",
       "</div>"
      ],
      "text/plain": [
       "                uid        game_pk      year      team_id_b      team_id_p  \\\n",
       "count  7.189610e+05  718961.000000  718961.0  718961.000000  718961.000000   \n",
       "mean   1.701980e+07  288557.611823    2011.0     128.787182     128.757296   \n",
       "std    1.665143e+06    3642.210956       0.0      14.281039      14.306711   \n",
       "min    1.414323e+07  286874.000000    2011.0     108.000000     108.000000   \n",
       "25%    1.557356e+07  287507.000000    2011.0     115.000000     115.000000   \n",
       "50%    1.703106e+07  288129.000000    2011.0     134.000000     134.000000   \n",
       "75%    1.845894e+07  288749.000000    2011.0     141.000000     141.000000   \n",
       "max    1.983820e+07  317073.000000    2011.0     158.000000     158.000000   \n",
       "\n",
       "              inning            top     at_bat_num  pcount_at_bat  \\\n",
       "count  718961.000000  718961.000000  718961.000000  718961.000000   \n",
       "mean        5.033796       0.508900      39.301513       2.865276   \n",
       "std         2.692326       0.499921      23.320725       1.715068   \n",
       "min         1.000000       0.000000       1.000000       1.000000   \n",
       "25%         3.000000       0.000000      19.000000       1.000000   \n",
       "50%         5.000000       1.000000      39.000000       3.000000   \n",
       "75%         7.000000       1.000000      58.000000       4.000000   \n",
       "max        19.000000       1.000000     158.000000      16.000000   \n",
       "\n",
       "       pcount_pitcher  ...  runner6_rbi  runner6_earned  runner7_id  \\\n",
       "count   718961.000000  ...          0.0             0.0         0.0   \n",
       "mean        37.357196  ...          NaN             NaN         NaN   \n",
       "std         30.690569  ...          NaN             NaN         NaN   \n",
       "min          1.000000  ...          NaN             NaN         NaN   \n",
       "25%         11.000000  ...          NaN             NaN         NaN   \n",
       "50%         28.000000  ...          NaN             NaN         NaN   \n",
       "75%         61.000000  ...          NaN             NaN         NaN   \n",
       "max        133.000000  ...          NaN             NaN         NaN   \n",
       "\n",
       "       runner7_start  runner7_end  runner7_event  runner7_score  runner7_rbi  \\\n",
       "count            0.0          0.0            0.0            0.0          0.0   \n",
       "mean             NaN          NaN            NaN            NaN          NaN   \n",
       "std              NaN          NaN            NaN            NaN          NaN   \n",
       "min              NaN          NaN            NaN            NaN          NaN   \n",
       "25%              NaN          NaN            NaN            NaN          NaN   \n",
       "50%              NaN          NaN            NaN            NaN          NaN   \n",
       "75%              NaN          NaN            NaN            NaN          NaN   \n",
       "max              NaN          NaN            NaN            NaN          NaN   \n",
       "\n",
       "       runner7_earned  modified_by  \n",
       "count             0.0     718961.0  \n",
       "mean              NaN          1.0  \n",
       "std               NaN          0.0  \n",
       "min               NaN          1.0  \n",
       "25%               NaN          1.0  \n",
       "50%               NaN          1.0  \n",
       "75%               NaN          1.0  \n",
       "max               NaN          1.0  \n",
       "\n",
       "[8 rows x 105 columns]"
      ]
     },
     "execution_count": 5,
     "metadata": {},
     "output_type": "execute_result"
    }
   ],
   "source": [
    "pitches.describe()"
   ]
  },
  {
   "cell_type": "code",
   "execution_count": 6,
   "metadata": {},
   "outputs": [
    {
     "data": {
      "text/plain": [
       "uid               718961\n",
       "game_pk           718961\n",
       "year              718961\n",
       "date              718961\n",
       "team_id_b         718961\n",
       "                   ...  \n",
       "runner7_earned         0\n",
       "created_at        718961\n",
       "added_at          718961\n",
       "modified_at       718961\n",
       "modified_by       718961\n",
       "Length: 125, dtype: int64"
      ]
     },
     "execution_count": 6,
     "metadata": {},
     "output_type": "execute_result"
    }
   ],
   "source": [
    "pitches.count()"
   ]
  },
  {
   "cell_type": "markdown",
   "metadata": {},
   "source": [
    "## Pitch type dictionary"
   ]
  },
  {
   "cell_type": "markdown",
   "metadata": {},
   "source": [
    "pitch_dict = {\n",
    "'AB': '<unknown>'\\\n",
    "'CH': 'Changeup'\\\n",
    "'CU': 'Curveball'\\\n",
    "'EP': 'Eephus'\\\n",
    "'FA': 'Fastball'\\\n",
    "'FC': 'Cutter'\\\n",
    "'FF': 'Four-Seam Fastball'/\n",
    "'FO': 'Forkball'/\n",
    "'FS': 'Splitter'/\n",
    "'FT': 'Two-seam Fastball'/\n",
    "'IN': 'Intentional Ball'/\n",
    "'KC': 'Knuckle-curve'/\n",
    "'KN': 'Knuckleball'/\n",
    "'PO': 'Pitchout'/\n",
    "'SC': 'Screwball'/\n",
    "'SI': 'Sinker'/\n",
    "'SL': 'Slider'/\n",
    "'UN': 'Unidentified'\\\n",
    "}"
   ]
  },
  {
   "cell_type": "markdown",
   "metadata": {},
   "source": [
    "## Count how many times each pitch was thrown throughout the season"
   ]
  },
  {
   "cell_type": "code",
   "execution_count": 7,
   "metadata": {
    "scrolled": true
   },
   "outputs": [
    {
     "data": {
      "text/html": [
       "<div>\n",
       "<style scoped>\n",
       "    .dataframe tbody tr th:only-of-type {\n",
       "        vertical-align: middle;\n",
       "    }\n",
       "\n",
       "    .dataframe tbody tr th {\n",
       "        vertical-align: top;\n",
       "    }\n",
       "\n",
       "    .dataframe thead th {\n",
       "        text-align: right;\n",
       "    }\n",
       "</style>\n",
       "<table border=\"1\" class=\"dataframe\">\n",
       "  <thead>\n",
       "    <tr style=\"text-align: right;\">\n",
       "      <th></th>\n",
       "      <th>pitch_type</th>\n",
       "      <th>total_pitches</th>\n",
       "      <th>unique_pitchers</th>\n",
       "    </tr>\n",
       "  </thead>\n",
       "  <tbody>\n",
       "    <tr>\n",
       "      <th>0</th>\n",
       "      <td>FF</td>\n",
       "      <td>238541</td>\n",
       "      <td>625</td>\n",
       "    </tr>\n",
       "    <tr>\n",
       "      <th>1</th>\n",
       "      <td>SL</td>\n",
       "      <td>109756</td>\n",
       "      <td>535</td>\n",
       "    </tr>\n",
       "    <tr>\n",
       "      <th>2</th>\n",
       "      <td>SI</td>\n",
       "      <td>87740</td>\n",
       "      <td>204</td>\n",
       "    </tr>\n",
       "    <tr>\n",
       "      <th>3</th>\n",
       "      <td>FT</td>\n",
       "      <td>81056</td>\n",
       "      <td>400</td>\n",
       "    </tr>\n",
       "    <tr>\n",
       "      <th>4</th>\n",
       "      <td>CH</td>\n",
       "      <td>72641</td>\n",
       "      <td>552</td>\n",
       "    </tr>\n",
       "    <tr>\n",
       "      <th>5</th>\n",
       "      <td>CU</td>\n",
       "      <td>56379</td>\n",
       "      <td>372</td>\n",
       "    </tr>\n",
       "    <tr>\n",
       "      <th>6</th>\n",
       "      <td>FC</td>\n",
       "      <td>41702</td>\n",
       "      <td>209</td>\n",
       "    </tr>\n",
       "    <tr>\n",
       "      <th>7</th>\n",
       "      <td>FS</td>\n",
       "      <td>10503</td>\n",
       "      <td>62</td>\n",
       "    </tr>\n",
       "    <tr>\n",
       "      <th>8</th>\n",
       "      <td>KC</td>\n",
       "      <td>8490</td>\n",
       "      <td>38</td>\n",
       "    </tr>\n",
       "    <tr>\n",
       "      <th>9</th>\n",
       "      <td>KN</td>\n",
       "      <td>4450</td>\n",
       "      <td>5</td>\n",
       "    </tr>\n",
       "    <tr>\n",
       "      <th>10</th>\n",
       "      <td>IN</td>\n",
       "      <td>4058</td>\n",
       "      <td>432</td>\n",
       "    </tr>\n",
       "    <tr>\n",
       "      <th>11</th>\n",
       "      <td>PO</td>\n",
       "      <td>559</td>\n",
       "      <td>242</td>\n",
       "    </tr>\n",
       "    <tr>\n",
       "      <th>12</th>\n",
       "      <td>FO</td>\n",
       "      <td>329</td>\n",
       "      <td>3</td>\n",
       "    </tr>\n",
       "    <tr>\n",
       "      <th>13</th>\n",
       "      <td>FA</td>\n",
       "      <td>204</td>\n",
       "      <td>57</td>\n",
       "    </tr>\n",
       "    <tr>\n",
       "      <th>14</th>\n",
       "      <td>EP</td>\n",
       "      <td>134</td>\n",
       "      <td>9</td>\n",
       "    </tr>\n",
       "    <tr>\n",
       "      <th>15</th>\n",
       "      <td>SC</td>\n",
       "      <td>120</td>\n",
       "      <td>4</td>\n",
       "    </tr>\n",
       "    <tr>\n",
       "      <th>16</th>\n",
       "      <td>UN</td>\n",
       "      <td>17</td>\n",
       "      <td>12</td>\n",
       "    </tr>\n",
       "    <tr>\n",
       "      <th>17</th>\n",
       "      <td>AB</td>\n",
       "      <td>2</td>\n",
       "      <td>2</td>\n",
       "    </tr>\n",
       "  </tbody>\n",
       "</table>\n",
       "</div>"
      ],
      "text/plain": [
       "   pitch_type  total_pitches  unique_pitchers\n",
       "0          FF         238541              625\n",
       "1          SL         109756              535\n",
       "2          SI          87740              204\n",
       "3          FT          81056              400\n",
       "4          CH          72641              552\n",
       "5          CU          56379              372\n",
       "6          FC          41702              209\n",
       "7          FS          10503               62\n",
       "8          KC           8490               38\n",
       "9          KN           4450                5\n",
       "10         IN           4058              432\n",
       "11         PO            559              242\n",
       "12         FO            329                3\n",
       "13         FA            204               57\n",
       "14         EP            134                9\n",
       "15         SC            120                4\n",
       "16         UN             17               12\n",
       "17         AB              2                2"
      ]
     },
     "execution_count": 7,
     "metadata": {},
     "output_type": "execute_result"
    }
   ],
   "source": [
    "# Number of different pitchers that threw at least one pitch, for each pitch type\n",
    "pitch_counts = pitches['pitch_type'].value_counts().reset_index(name = 'total_pitches')\n",
    "pitcher_counts_by_type = pitches.groupby('pitch_type')['pitcher_id'].nunique().reset_index(name = 'unique_pitchers')\n",
    "pitches_combined = pitch_counts.merge(pitcher_counts_by_type, how = 'left', left_on = 'index', right_on = 'pitch_type')\n",
    "pitches_combined[['pitch_type', 'total_pitches', 'unique_pitchers']]"
   ]
  },
  {
   "cell_type": "code",
   "execution_count": 8,
   "metadata": {
    "scrolled": true
   },
   "outputs": [
    {
     "data": {
      "text/html": [
       "<div>\n",
       "<style scoped>\n",
       "    .dataframe tbody tr th:only-of-type {\n",
       "        vertical-align: middle;\n",
       "    }\n",
       "\n",
       "    .dataframe tbody tr th {\n",
       "        vertical-align: top;\n",
       "    }\n",
       "\n",
       "    .dataframe thead th {\n",
       "        text-align: right;\n",
       "    }\n",
       "</style>\n",
       "<table border=\"1\" class=\"dataframe\">\n",
       "  <thead>\n",
       "    <tr style=\"text-align: right;\">\n",
       "      <th></th>\n",
       "      <th>index</th>\n",
       "      <th>pitch_type</th>\n",
       "    </tr>\n",
       "  </thead>\n",
       "  <tbody>\n",
       "    <tr>\n",
       "      <th>0</th>\n",
       "      <td>FF</td>\n",
       "      <td>0.332841</td>\n",
       "    </tr>\n",
       "    <tr>\n",
       "      <th>1</th>\n",
       "      <td>SL</td>\n",
       "      <td>0.153145</td>\n",
       "    </tr>\n",
       "    <tr>\n",
       "      <th>2</th>\n",
       "      <td>SI</td>\n",
       "      <td>0.122425</td>\n",
       "    </tr>\n",
       "    <tr>\n",
       "      <th>3</th>\n",
       "      <td>FT</td>\n",
       "      <td>0.113099</td>\n",
       "    </tr>\n",
       "    <tr>\n",
       "      <th>4</th>\n",
       "      <td>CH</td>\n",
       "      <td>0.101358</td>\n",
       "    </tr>\n",
       "    <tr>\n",
       "      <th>5</th>\n",
       "      <td>CU</td>\n",
       "      <td>0.078667</td>\n",
       "    </tr>\n",
       "    <tr>\n",
       "      <th>6</th>\n",
       "      <td>FC</td>\n",
       "      <td>0.058188</td>\n",
       "    </tr>\n",
       "    <tr>\n",
       "      <th>7</th>\n",
       "      <td>FS</td>\n",
       "      <td>0.014655</td>\n",
       "    </tr>\n",
       "    <tr>\n",
       "      <th>8</th>\n",
       "      <td>KC</td>\n",
       "      <td>0.011846</td>\n",
       "    </tr>\n",
       "    <tr>\n",
       "      <th>9</th>\n",
       "      <td>KN</td>\n",
       "      <td>0.006209</td>\n",
       "    </tr>\n",
       "    <tr>\n",
       "      <th>10</th>\n",
       "      <td>IN</td>\n",
       "      <td>0.005662</td>\n",
       "    </tr>\n",
       "    <tr>\n",
       "      <th>11</th>\n",
       "      <td>PO</td>\n",
       "      <td>0.000780</td>\n",
       "    </tr>\n",
       "    <tr>\n",
       "      <th>12</th>\n",
       "      <td>FO</td>\n",
       "      <td>0.000459</td>\n",
       "    </tr>\n",
       "    <tr>\n",
       "      <th>13</th>\n",
       "      <td>FA</td>\n",
       "      <td>0.000285</td>\n",
       "    </tr>\n",
       "    <tr>\n",
       "      <th>14</th>\n",
       "      <td>EP</td>\n",
       "      <td>0.000187</td>\n",
       "    </tr>\n",
       "    <tr>\n",
       "      <th>15</th>\n",
       "      <td>SC</td>\n",
       "      <td>0.000167</td>\n",
       "    </tr>\n",
       "    <tr>\n",
       "      <th>16</th>\n",
       "      <td>UN</td>\n",
       "      <td>0.000024</td>\n",
       "    </tr>\n",
       "    <tr>\n",
       "      <th>17</th>\n",
       "      <td>AB</td>\n",
       "      <td>0.000003</td>\n",
       "    </tr>\n",
       "  </tbody>\n",
       "</table>\n",
       "</div>"
      ],
      "text/plain": [
       "   index  pitch_type\n",
       "0     FF    0.332841\n",
       "1     SL    0.153145\n",
       "2     SI    0.122425\n",
       "3     FT    0.113099\n",
       "4     CH    0.101358\n",
       "5     CU    0.078667\n",
       "6     FC    0.058188\n",
       "7     FS    0.014655\n",
       "8     KC    0.011846\n",
       "9     KN    0.006209\n",
       "10    IN    0.005662\n",
       "11    PO    0.000780\n",
       "12    FO    0.000459\n",
       "13    FA    0.000285\n",
       "14    EP    0.000187\n",
       "15    SC    0.000167\n",
       "16    UN    0.000024\n",
       "17    AB    0.000003"
      ]
     },
     "execution_count": 8,
     "metadata": {},
     "output_type": "execute_result"
    }
   ],
   "source": [
    "# Percentage breakdown for each pitch type\n",
    "pitches['pitch_type'].value_counts(normalize = True).reset_index()"
   ]
  },
  {
   "cell_type": "code",
   "execution_count": 9,
   "metadata": {},
   "outputs": [
    {
     "data": {
      "text/plain": [
       "<matplotlib.axes._subplots.AxesSubplot at 0x2581436c908>"
      ]
     },
     "execution_count": 9,
     "metadata": {},
     "output_type": "execute_result"
    },
    {
     "data": {
      "image/png": "[encoded data removed]",
      "text/plain": [
       "<Figure size 432x288 with 1 Axes>"
      ]
     },
     "metadata": {
      "needs_background": "light"
     },
     "output_type": "display_data"
    }
   ],
   "source": [
    "# Plot of pitch type percentages\n",
    "pitches['pitch_type'].value_counts(normalize = True).plot(kind = 'bar')"
   ]
  },
  {
   "cell_type": "code",
   "execution_count": 10,
   "metadata": {},
   "outputs": [
    {
     "data": {
      "text/plain": [
       "0.0019046130705292872"
      ]
     },
     "execution_count": 10,
     "metadata": {},
     "output_type": "execute_result"
    }
   ],
   "source": [
    "# Pitches with <1000 throws, when combined into one pitch type, make up less than 1% of all pitches\n",
    "pitches['pitch_type'].value_counts(normalize = True).reset_index().loc[11:, 'pitch_type'].sum()"
   ]
  },
  {
   "cell_type": "markdown",
   "metadata": {},
   "source": [
    "## Look at knuckleballs"
   ]
  },
  {
   "cell_type": "code",
   "execution_count": 11,
   "metadata": {},
   "outputs": [
    {
     "data": {
      "text/plain": [
       "285079    2309\n",
       "123801    2122\n",
       "453454       9\n",
       "211041       8\n",
       "430574       2\n",
       "Name: pitcher_id, dtype: int64"
      ]
     },
     "execution_count": 11,
     "metadata": {},
     "output_type": "execute_result"
    }
   ],
   "source": [
    "# Count of knuckleballs thrown throughout the season, broken down by pitcher\n",
    "knuckleballs = pitches[pitches['pitch_type'] == 'KN']\n",
    "knuckleballs['pitcher_id'].value_counts()"
   ]
  },
  {
   "cell_type": "code",
   "execution_count": 12,
   "metadata": {
    "scrolled": true
   },
   "outputs": [
    {
     "data": {
      "text/html": [
       "<div>\n",
       "<style scoped>\n",
       "    .dataframe tbody tr th:only-of-type {\n",
       "        vertical-align: middle;\n",
       "    }\n",
       "\n",
       "    .dataframe tbody tr th {\n",
       "        vertical-align: top;\n",
       "    }\n",
       "\n",
       "    .dataframe thead th {\n",
       "        text-align: right;\n",
       "    }\n",
       "</style>\n",
       "<table border=\"1\" class=\"dataframe\">\n",
       "  <thead>\n",
       "    <tr style=\"text-align: right;\">\n",
       "      <th></th>\n",
       "      <th>pitcher_id</th>\n",
       "      <th>pitch_type</th>\n",
       "      <th>count</th>\n",
       "    </tr>\n",
       "  </thead>\n",
       "  <tbody>\n",
       "    <tr>\n",
       "      <th>1</th>\n",
       "      <td>123801</td>\n",
       "      <td>KN</td>\n",
       "      <td>2122</td>\n",
       "    </tr>\n",
       "    <tr>\n",
       "      <th>3</th>\n",
       "      <td>123801</td>\n",
       "      <td>FF</td>\n",
       "      <td>208</td>\n",
       "    </tr>\n",
       "    <tr>\n",
       "      <th>7</th>\n",
       "      <td>123801</td>\n",
       "      <td>CU</td>\n",
       "      <td>64</td>\n",
       "    </tr>\n",
       "    <tr>\n",
       "      <th>13</th>\n",
       "      <td>123801</td>\n",
       "      <td>PO</td>\n",
       "      <td>15</td>\n",
       "    </tr>\n",
       "    <tr>\n",
       "      <th>21</th>\n",
       "      <td>123801</td>\n",
       "      <td>IN</td>\n",
       "      <td>2</td>\n",
       "    </tr>\n",
       "    <tr>\n",
       "      <th>4</th>\n",
       "      <td>211041</td>\n",
       "      <td>FF</td>\n",
       "      <td>208</td>\n",
       "    </tr>\n",
       "    <tr>\n",
       "      <th>5</th>\n",
       "      <td>211041</td>\n",
       "      <td>SI</td>\n",
       "      <td>82</td>\n",
       "    </tr>\n",
       "    <tr>\n",
       "      <th>8</th>\n",
       "      <td>211041</td>\n",
       "      <td>FS</td>\n",
       "      <td>48</td>\n",
       "    </tr>\n",
       "    <tr>\n",
       "      <th>9</th>\n",
       "      <td>211041</td>\n",
       "      <td>CU</td>\n",
       "      <td>44</td>\n",
       "    </tr>\n",
       "    <tr>\n",
       "      <th>10</th>\n",
       "      <td>211041</td>\n",
       "      <td>SL</td>\n",
       "      <td>42</td>\n",
       "    </tr>\n",
       "    <tr>\n",
       "      <th>11</th>\n",
       "      <td>211041</td>\n",
       "      <td>CH</td>\n",
       "      <td>28</td>\n",
       "    </tr>\n",
       "    <tr>\n",
       "      <th>12</th>\n",
       "      <td>211041</td>\n",
       "      <td>FC</td>\n",
       "      <td>16</td>\n",
       "    </tr>\n",
       "    <tr>\n",
       "      <th>16</th>\n",
       "      <td>211041</td>\n",
       "      <td>KN</td>\n",
       "      <td>8</td>\n",
       "    </tr>\n",
       "    <tr>\n",
       "      <th>17</th>\n",
       "      <td>211041</td>\n",
       "      <td>IN</td>\n",
       "      <td>8</td>\n",
       "    </tr>\n",
       "    <tr>\n",
       "      <th>0</th>\n",
       "      <td>285079</td>\n",
       "      <td>KN</td>\n",
       "      <td>2309</td>\n",
       "    </tr>\n",
       "    <tr>\n",
       "      <th>2</th>\n",
       "      <td>285079</td>\n",
       "      <td>FF</td>\n",
       "      <td>730</td>\n",
       "    </tr>\n",
       "    <tr>\n",
       "      <th>6</th>\n",
       "      <td>285079</td>\n",
       "      <td>EP</td>\n",
       "      <td>82</td>\n",
       "    </tr>\n",
       "    <tr>\n",
       "      <th>18</th>\n",
       "      <td>285079</td>\n",
       "      <td>IN</td>\n",
       "      <td>7</td>\n",
       "    </tr>\n",
       "    <tr>\n",
       "      <th>20</th>\n",
       "      <td>285079</td>\n",
       "      <td>PO</td>\n",
       "      <td>3</td>\n",
       "    </tr>\n",
       "    <tr>\n",
       "      <th>14</th>\n",
       "      <td>430574</td>\n",
       "      <td>CH</td>\n",
       "      <td>9</td>\n",
       "    </tr>\n",
       "    <tr>\n",
       "      <th>19</th>\n",
       "      <td>430574</td>\n",
       "      <td>CU</td>\n",
       "      <td>4</td>\n",
       "    </tr>\n",
       "    <tr>\n",
       "      <th>22</th>\n",
       "      <td>430574</td>\n",
       "      <td>KN</td>\n",
       "      <td>2</td>\n",
       "    </tr>\n",
       "    <tr>\n",
       "      <th>24</th>\n",
       "      <td>430574</td>\n",
       "      <td>SL</td>\n",
       "      <td>1</td>\n",
       "    </tr>\n",
       "    <tr>\n",
       "      <th>15</th>\n",
       "      <td>453454</td>\n",
       "      <td>KN</td>\n",
       "      <td>9</td>\n",
       "    </tr>\n",
       "    <tr>\n",
       "      <th>23</th>\n",
       "      <td>453454</td>\n",
       "      <td>CH</td>\n",
       "      <td>2</td>\n",
       "    </tr>\n",
       "    <tr>\n",
       "      <th>25</th>\n",
       "      <td>453454</td>\n",
       "      <td>FC</td>\n",
       "      <td>1</td>\n",
       "    </tr>\n",
       "  </tbody>\n",
       "</table>\n",
       "</div>"
      ],
      "text/plain": [
       "    pitcher_id pitch_type  count\n",
       "1       123801         KN   2122\n",
       "3       123801         FF    208\n",
       "7       123801         CU     64\n",
       "13      123801         PO     15\n",
       "21      123801         IN      2\n",
       "4       211041         FF    208\n",
       "5       211041         SI     82\n",
       "8       211041         FS     48\n",
       "9       211041         CU     44\n",
       "10      211041         SL     42\n",
       "11      211041         CH     28\n",
       "12      211041         FC     16\n",
       "16      211041         KN      8\n",
       "17      211041         IN      8\n",
       "0       285079         KN   2309\n",
       "2       285079         FF    730\n",
       "6       285079         EP     82\n",
       "18      285079         IN      7\n",
       "20      285079         PO      3\n",
       "14      430574         CH      9\n",
       "19      430574         CU      4\n",
       "22      430574         KN      2\n",
       "24      430574         SL      1\n",
       "15      453454         KN      9\n",
       "23      453454         CH      2\n",
       "25      453454         FC      1"
      ]
     },
     "execution_count": 12,
     "metadata": {},
     "output_type": "execute_result"
    }
   ],
   "source": [
    "# Pitch type breakdowns by knuckleball pitchers\n",
    "pitches[pitches['pitcher_id'].isin(knuckleballs['pitcher_id'].unique().tolist())][['pitcher_id', 'pitch_type']].value_counts().reset_index(name = 'count').sort_values(['pitcher_id', 'count'], ascending = [True, False])"
   ]
  },
  {
   "cell_type": "code",
   "execution_count": 13,
   "metadata": {},
   "outputs": [
    {
     "data": {
      "text/plain": [
       "KN    0.735051\n",
       "FF    0.189296\n",
       "CU    0.018500\n",
       "SI    0.013545\n",
       "EP    0.013545\n",
       "FS    0.007929\n",
       "SL    0.007103\n",
       "CH    0.006442\n",
       "PO    0.002973\n",
       "FC    0.002808\n",
       "IN    0.002808\n",
       "Name: pitch_type, dtype: float64"
      ]
     },
     "execution_count": 13,
     "metadata": {},
     "output_type": "execute_result"
    }
   ],
   "source": [
    "# Pitch percentage breakdowns for knuckleball pitchers, aggregated\n",
    "pitches[pitches['pitcher_id'].isin(knuckleballs['pitcher_id'].unique().tolist())]['pitch_type'].value_counts(normalize = True)\n",
    "# ~74% of pitches by these pitchers are knuckleballs, giving credibility to the\n",
    "# idea that knuckleball pitchers use this pitch almost exclusively"
   ]
  },
  {
   "cell_type": "code",
   "execution_count": 14,
   "metadata": {},
   "outputs": [
    {
     "data": {
      "text/html": [
       "<div>\n",
       "<style scoped>\n",
       "    .dataframe tbody tr th:only-of-type {\n",
       "        vertical-align: middle;\n",
       "    }\n",
       "\n",
       "    .dataframe tbody tr th {\n",
       "        vertical-align: top;\n",
       "    }\n",
       "\n",
       "    .dataframe thead th {\n",
       "        text-align: right;\n",
       "    }\n",
       "</style>\n",
       "<table border=\"1\" class=\"dataframe\">\n",
       "  <thead>\n",
       "    <tr style=\"text-align: right;\">\n",
       "      <th></th>\n",
       "      <th>pitcher_id</th>\n",
       "      <th>pitch_type</th>\n",
       "      <th>count</th>\n",
       "      <th>total_pitches</th>\n",
       "      <th>percentage</th>\n",
       "    </tr>\n",
       "  </thead>\n",
       "  <tbody>\n",
       "    <tr>\n",
       "      <th>1</th>\n",
       "      <td>123801</td>\n",
       "      <td>KN</td>\n",
       "      <td>2122</td>\n",
       "      <td>2411</td>\n",
       "      <td>0.880133</td>\n",
       "    </tr>\n",
       "    <tr>\n",
       "      <th>16</th>\n",
       "      <td>211041</td>\n",
       "      <td>KN</td>\n",
       "      <td>8</td>\n",
       "      <td>484</td>\n",
       "      <td>0.016529</td>\n",
       "    </tr>\n",
       "    <tr>\n",
       "      <th>0</th>\n",
       "      <td>285079</td>\n",
       "      <td>KN</td>\n",
       "      <td>2309</td>\n",
       "      <td>3131</td>\n",
       "      <td>0.737464</td>\n",
       "    </tr>\n",
       "    <tr>\n",
       "      <th>22</th>\n",
       "      <td>430574</td>\n",
       "      <td>KN</td>\n",
       "      <td>2</td>\n",
       "      <td>16</td>\n",
       "      <td>0.125000</td>\n",
       "    </tr>\n",
       "    <tr>\n",
       "      <th>15</th>\n",
       "      <td>453454</td>\n",
       "      <td>KN</td>\n",
       "      <td>9</td>\n",
       "      <td>12</td>\n",
       "      <td>0.750000</td>\n",
       "    </tr>\n",
       "  </tbody>\n",
       "</table>\n",
       "</div>"
      ],
      "text/plain": [
       "    pitcher_id pitch_type  count  total_pitches  percentage\n",
       "1       123801         KN   2122           2411    0.880133\n",
       "16      211041         KN      8            484    0.016529\n",
       "0       285079         KN   2309           3131    0.737464\n",
       "22      430574         KN      2             16    0.125000\n",
       "15      453454         KN      9             12    0.750000"
      ]
     },
     "execution_count": 14,
     "metadata": {},
     "output_type": "execute_result"
    }
   ],
   "source": [
    "# Percentage breakdown by pitcher (knuckleballs vs. any other pitch type)\n",
    "kn_pitchers = pitches[pitches['pitcher_id'].isin(knuckleballs['pitcher_id'].unique().tolist())]\n",
    "kn_pitch_breakdowns = kn_pitchers[['pitcher_id', 'pitch_type']].value_counts().reset_index(name = 'count')\n",
    "kn_pitch_breakdowns['total_pitches'] = kn_pitch_breakdowns.groupby('pitcher_id')['count'].transform(sum)\n",
    "kn_pitch_breakdowns['percentage'] = kn_pitch_breakdowns.groupby('pitcher_id')['count'].transform(lambda x: x / sum(x))\n",
    "kn_pitch_breakdowns = kn_pitch_breakdowns.sort_values(['pitcher_id', 'count'], ascending = [True, False])\n",
    "kn_pitch_breakdowns[kn_pitch_breakdowns['pitch_type'] == 'KN']\n",
    "# 211041 seems to be the one exception to the knuckleball exclusitivity idea"
   ]
  },
  {
   "cell_type": "markdown",
   "metadata": {},
   "source": [
    "### Conclusion"
   ]
  },
  {
   "cell_type": "markdown",
   "metadata": {},
   "source": [
    "Knuckleballs make up less than 1% of total pitches thrown throughout the 2011 season. Only 5 different pitchers threw at least one, but for these 5 pitchers, knuckleballs comprised 74% of their total pitches. So, in general, pitchers who throw knuckleballs tend to throw them the majority of the time. These pitchers will not be considered when building the model."
   ]
  },
  {
   "cell_type": "markdown",
   "metadata": {},
   "source": [
    "### Do knuckle-curves behave similarly to knuckleballs?"
   ]
  },
  {
   "cell_type": "code",
   "execution_count": 15,
   "metadata": {
    "scrolled": true
   },
   "outputs": [
    {
     "data": {
      "text/plain": [
       "150359    1084\n",
       "448306     769\n",
       "451584     430\n",
       "450172     399\n",
       "518886     397\n",
       "502706     395\n",
       "460024     389\n",
       "453178     354\n",
       "456034     347\n",
       "461833     278\n",
       "456701     270\n",
       "518716     254\n",
       "502085     253\n",
       "519186     239\n",
       "453343     239\n",
       "477569     232\n",
       "434442     230\n",
       "429717     201\n",
       "474039     198\n",
       "450306     185\n",
       "502171     136\n",
       "502190     130\n",
       "501957     129\n",
       "474463     123\n",
       "501985     121\n",
       "474699      99\n",
       "502264      97\n",
       "472551      96\n",
       "433586      95\n",
       "459967      81\n",
       "476570      43\n",
       "502046      42\n",
       "543070      39\n",
       "519141      32\n",
       "502748      26\n",
       "489334      25\n",
       "449079      18\n",
       "476454      15\n",
       "Name: pitcher_id, dtype: int64"
      ]
     },
     "execution_count": 15,
     "metadata": {},
     "output_type": "execute_result"
    }
   ],
   "source": [
    "# Count how many knuckle-curves were thrown by each pitcher\n",
    "knuckle_curves = pitches[pitches['pitch_type'] == 'KC']\n",
    "knuckle_curves['pitcher_id'].value_counts()\n",
    "# The answer is no; knuckle-curves are thrown by far more pitchers than are knuckleballs"
   ]
  },
  {
   "cell_type": "markdown",
   "metadata": {},
   "source": [
    "# Data filtering"
   ]
  },
  {
   "cell_type": "markdown",
   "metadata": {},
   "source": [
    "As stated earlier, only fields available prior to each pitch will be used. All other fields will be dropped, except for pitch_type (the dependent variable), and type_confidence (may get used for filtering; see below).\n",
    "\n",
    "Pitches where type_confidence is low should be thrown out, since for those cases, it is not clear how accurate the labels are. Additionally, along with knuckleballs, pitches where the classification is UN (Unidentified), AB (unknown), or null will be removed.\n",
    "\n",
    "It is tempting to remove IN (Intentional Ball) and PO (Pitchout), since these are very situational pitches, but they will be kept in the dataset. These pitches are pretty uncommon (the Pitchout especially), so it is unlikely they will affect the model in a harmful way.\n",
    "\n",
    "Fields involving the date or time of the pitch are likely not relevant to the pitch type, and will not be considered."
   ]
  },
  {
   "cell_type": "markdown",
   "metadata": {},
   "source": [
    "## Remove all fields that are not available prior to the pitch (except *pitch_type* and *type_confidence*)"
   ]
  },
  {
   "cell_type": "code",
   "execution_count": 16,
   "metadata": {},
   "outputs": [],
   "source": [
    "prior_fields = pitches[['uid', 'game_pk', 'year', 'date', 'team_id_b', 'team_id_p', 'inning', 'top',\n",
    "                        'at_bat_num', 'pcount_at_bat', 'pcount_pitcher',\n",
    "                        'balls', 'strikes', 'fouls', 'outs',\n",
    "                        'start_tfs', 'start_tfs_zulu',\n",
    "                        'batter_id', 'stand', 'b_height', 'pitcher_id', 'p_throws',\n",
    "                        'away_team_runs', 'home_team_runs', 'pitch_id',\n",
    "                        'on_1b', 'on_2b', 'on_3b',\n",
    "                        'pitch_type', 'type_confidence']]"
   ]
  },
  {
   "cell_type": "markdown",
   "metadata": {},
   "source": [
    "## Remove rows where *pitch_type* is AB, KN (Knuckleball), UN (Unidentified), or null"
   ]
  },
  {
   "cell_type": "code",
   "execution_count": 17,
   "metadata": {},
   "outputs": [
    {
     "data": {
      "text/plain": [
       "FF    238541\n",
       "SL    109756\n",
       "SI     87740\n",
       "FT     81056\n",
       "CH     72641\n",
       "CU     56379\n",
       "FC     41702\n",
       "FS     10503\n",
       "KC      8490\n",
       "IN      4058\n",
       "PO       559\n",
       "FO       329\n",
       "FA       204\n",
       "EP       134\n",
       "SC       120\n",
       "Name: pitch_type, dtype: int64"
      ]
     },
     "execution_count": 17,
     "metadata": {},
     "output_type": "execute_result"
    }
   ],
   "source": [
    "prior_fields_filtered = prior_fields[(~prior_fields['pitch_type'].isin(['UN', 'AB', 'KN'])) & (prior_fields['pitch_type'].notna())]\n",
    "prior_fields_filtered['pitch_type'].value_counts(dropna = False)"
   ]
  },
  {
   "cell_type": "markdown",
   "metadata": {},
   "source": [
    "## Remove pitches where *type_confidence* is low"
   ]
  },
  {
   "cell_type": "markdown",
   "metadata": {},
   "source": [
    "### Pitch type confidence breakdown by pitch"
   ]
  },
  {
   "cell_type": "code",
   "execution_count": 18,
   "metadata": {
    "scrolled": true
   },
   "outputs": [
    {
     "data": {
      "text/html": [
       "<div>\n",
       "<style scoped>\n",
       "    .dataframe tbody tr th:only-of-type {\n",
       "        vertical-align: middle;\n",
       "    }\n",
       "\n",
       "    .dataframe tbody tr th {\n",
       "        vertical-align: top;\n",
       "    }\n",
       "\n",
       "    .dataframe thead th {\n",
       "        text-align: right;\n",
       "    }\n",
       "</style>\n",
       "<table border=\"1\" class=\"dataframe\">\n",
       "  <thead>\n",
       "    <tr style=\"text-align: right;\">\n",
       "      <th></th>\n",
       "      <th>pitch_type</th>\n",
       "      <th>count</th>\n",
       "      <th>min</th>\n",
       "      <th>max</th>\n",
       "      <th>mean</th>\n",
       "    </tr>\n",
       "  </thead>\n",
       "  <tbody>\n",
       "    <tr>\n",
       "      <th>0</th>\n",
       "      <td>FF</td>\n",
       "      <td>238541</td>\n",
       "      <td>0.081</td>\n",
       "      <td>2.0</td>\n",
       "      <td>1.404673</td>\n",
       "    </tr>\n",
       "    <tr>\n",
       "      <th>1</th>\n",
       "      <td>SL</td>\n",
       "      <td>109756</td>\n",
       "      <td>0.079</td>\n",
       "      <td>2.0</td>\n",
       "      <td>1.507888</td>\n",
       "    </tr>\n",
       "    <tr>\n",
       "      <th>2</th>\n",
       "      <td>SI</td>\n",
       "      <td>87740</td>\n",
       "      <td>0.000</td>\n",
       "      <td>2.0</td>\n",
       "      <td>0.988116</td>\n",
       "    </tr>\n",
       "    <tr>\n",
       "      <th>3</th>\n",
       "      <td>FT</td>\n",
       "      <td>81056</td>\n",
       "      <td>0.128</td>\n",
       "      <td>2.0</td>\n",
       "      <td>1.419476</td>\n",
       "    </tr>\n",
       "    <tr>\n",
       "      <th>4</th>\n",
       "      <td>CH</td>\n",
       "      <td>72641</td>\n",
       "      <td>0.003</td>\n",
       "      <td>2.0</td>\n",
       "      <td>1.557367</td>\n",
       "    </tr>\n",
       "    <tr>\n",
       "      <th>5</th>\n",
       "      <td>CU</td>\n",
       "      <td>56379</td>\n",
       "      <td>0.112</td>\n",
       "      <td>2.0</td>\n",
       "      <td>1.538355</td>\n",
       "    </tr>\n",
       "    <tr>\n",
       "      <th>6</th>\n",
       "      <td>FC</td>\n",
       "      <td>41702</td>\n",
       "      <td>0.216</td>\n",
       "      <td>2.0</td>\n",
       "      <td>1.507263</td>\n",
       "    </tr>\n",
       "    <tr>\n",
       "      <th>7</th>\n",
       "      <td>FS</td>\n",
       "      <td>10503</td>\n",
       "      <td>0.139</td>\n",
       "      <td>2.0</td>\n",
       "      <td>1.665645</td>\n",
       "    </tr>\n",
       "    <tr>\n",
       "      <th>8</th>\n",
       "      <td>KC</td>\n",
       "      <td>8490</td>\n",
       "      <td>0.541</td>\n",
       "      <td>2.0</td>\n",
       "      <td>1.992802</td>\n",
       "    </tr>\n",
       "    <tr>\n",
       "      <th>9</th>\n",
       "      <td>IN</td>\n",
       "      <td>4058</td>\n",
       "      <td>0.000</td>\n",
       "      <td>0.0</td>\n",
       "      <td>0.000000</td>\n",
       "    </tr>\n",
       "    <tr>\n",
       "      <th>10</th>\n",
       "      <td>PO</td>\n",
       "      <td>559</td>\n",
       "      <td>0.000</td>\n",
       "      <td>0.0</td>\n",
       "      <td>0.000000</td>\n",
       "    </tr>\n",
       "    <tr>\n",
       "      <th>11</th>\n",
       "      <td>FO</td>\n",
       "      <td>329</td>\n",
       "      <td>0.434</td>\n",
       "      <td>2.0</td>\n",
       "      <td>0.914979</td>\n",
       "    </tr>\n",
       "    <tr>\n",
       "      <th>12</th>\n",
       "      <td>FA</td>\n",
       "      <td>204</td>\n",
       "      <td>0.000</td>\n",
       "      <td>2.0</td>\n",
       "      <td>0.337010</td>\n",
       "    </tr>\n",
       "    <tr>\n",
       "      <th>13</th>\n",
       "      <td>EP</td>\n",
       "      <td>134</td>\n",
       "      <td>0.831</td>\n",
       "      <td>2.0</td>\n",
       "      <td>1.974261</td>\n",
       "    </tr>\n",
       "    <tr>\n",
       "      <th>14</th>\n",
       "      <td>SC</td>\n",
       "      <td>120</td>\n",
       "      <td>0.640</td>\n",
       "      <td>2.0</td>\n",
       "      <td>1.098267</td>\n",
       "    </tr>\n",
       "  </tbody>\n",
       "</table>\n",
       "</div>"
      ],
      "text/plain": [
       "   pitch_type   count    min  max      mean\n",
       "0          FF  238541  0.081  2.0  1.404673\n",
       "1          SL  109756  0.079  2.0  1.507888\n",
       "2          SI   87740  0.000  2.0  0.988116\n",
       "3          FT   81056  0.128  2.0  1.419476\n",
       "4          CH   72641  0.003  2.0  1.557367\n",
       "5          CU   56379  0.112  2.0  1.538355\n",
       "6          FC   41702  0.216  2.0  1.507263\n",
       "7          FS   10503  0.139  2.0  1.665645\n",
       "8          KC    8490  0.541  2.0  1.992802\n",
       "9          IN    4058  0.000  0.0  0.000000\n",
       "10         PO     559  0.000  0.0  0.000000\n",
       "11         FO     329  0.434  2.0  0.914979\n",
       "12         FA     204  0.000  2.0  0.337010\n",
       "13         EP     134  0.831  2.0  1.974261\n",
       "14         SC     120  0.640  2.0  1.098267"
      ]
     },
     "execution_count": 18,
     "metadata": {},
     "output_type": "execute_result"
    }
   ],
   "source": [
    "pitch_type_confidence = prior_fields_filtered[['pitch_type', 'type_confidence']]\n",
    "pitch_type_confidence.groupby('pitch_type')['type_confidence'].agg(['count', 'min', 'max', 'mean']).sort_values('count', ascending = False).reset_index()\n",
    "# IN and PO always have type_confidence = 0.0"
   ]
  },
  {
   "cell_type": "markdown",
   "metadata": {},
   "source": [
    "### type_confidence breakdown for non-IN/PO pitches"
   ]
  },
  {
   "cell_type": "code",
   "execution_count": 19,
   "metadata": {},
   "outputs": [],
   "source": [
    "non_in_po_pitches = prior_fields_filtered[~prior_fields_filtered['pitch_type'].isin(['IN', 'PO'])]"
   ]
  },
  {
   "cell_type": "code",
   "execution_count": 20,
   "metadata": {},
   "outputs": [
    {
     "data": {
      "text/plain": [
       "count    707595.000000\n",
       "mean          1.413550\n",
       "std           0.653432\n",
       "min           0.000000\n",
       "25%           0.902000\n",
       "50%           2.000000\n",
       "75%           2.000000\n",
       "max           2.000000\n",
       "Name: type_confidence, dtype: float64"
      ]
     },
     "execution_count": 20,
     "metadata": {},
     "output_type": "execute_result"
    }
   ],
   "source": [
    "non_in_po_pitches['type_confidence'].describe()"
   ]
  },
  {
   "cell_type": "code",
   "execution_count": 21,
   "metadata": {},
   "outputs": [
    {
     "data": {
      "image/png": "[encoded data removed]",
      "text/plain": [
       "<Figure size 432x288 with 1 Axes>"
      ]
     },
     "metadata": {
      "needs_background": "light"
     },
     "output_type": "display_data"
    }
   ],
   "source": [
    "plt.hist(non_in_po_pitches['type_confidence'], bins = 20)\n",
    "plt.show()"
   ]
  },
  {
   "cell_type": "code",
   "execution_count": 22,
   "metadata": {},
   "outputs": [
    {
     "name": "stdout",
     "output_type": "stream",
     "text": [
      "Total non-IN/PO pitches: 707595\n",
      "Number of non-IN/PO pitches where type_confidence < 0.5: 46456\n",
      "Proportion of total non-IN/PO pitches where type_confidence < 0.5: 0.06565337516517217\n",
      "Number of non-IN/PO pitches where type_confidence is 0: 44428\n"
     ]
    }
   ],
   "source": [
    "print('Total non-IN/PO pitches:', len(non_in_po_pitches))\n",
    "print('Number of non-IN/PO pitches where type_confidence < 0.5:', len(non_in_po_pitches[non_in_po_pitches['type_confidence'] < 0.5]))\n",
    "print('Proportion of total non-IN/PO pitches where type_confidence < 0.5:', len(non_in_po_pitches[non_in_po_pitches['type_confidence'] < 0.5]) / len(non_in_po_pitches))\n",
    "print('Number of non-IN/PO pitches where type_confidence is 0:', len(non_in_po_pitches[non_in_po_pitches['type_confidence'] == 0]))"
   ]
  },
  {
   "cell_type": "code",
   "execution_count": 23,
   "metadata": {},
   "outputs": [
    {
     "name": "stdout",
     "output_type": "stream",
     "text": [
      "Proportion of pitches where type_confidence is 2.000: 0.5258883966110558\n"
     ]
    }
   ],
   "source": [
    "print('Proportion of pitches where type_confidence is 2.000:', len(non_in_po_pitches[non_in_po_pitches['type_confidence'] == 2.000]) / len(non_in_po_pitches))"
   ]
  },
  {
   "cell_type": "markdown",
   "metadata": {},
   "source": [
    "### Rows where *type_confidence* < 0.5 make up ~7% of the data. In nearly all of these rows, *type_confidence* is 0.0.\n",
    "### All of the rows where *type_confidence* < 0.5 will be removed, except for IN and PO pitches."
   ]
  },
  {
   "cell_type": "code",
   "execution_count": 24,
   "metadata": {},
   "outputs": [
    {
     "data": {
      "text/plain": [
       "665756"
      ]
     },
     "execution_count": 24,
     "metadata": {},
     "output_type": "execute_result"
    }
   ],
   "source": [
    "prior_fields_confidence = prior_fields_filtered.copy()\n",
    "prior_fields_confidence = prior_fields_confidence[(prior_fields_confidence['type_confidence'] >= 0.5)\n",
    "                                                  | (prior_fields_confidence['pitch_type'].isin(['IN', 'PO']))]\n",
    "len(prior_fields_confidence)"
   ]
  },
  {
   "cell_type": "markdown",
   "metadata": {},
   "source": [
    "# Data reformatting"
   ]
  },
  {
   "cell_type": "markdown",
   "metadata": {},
   "source": [
    "Pitches that were thrown <1000 times during the season will be combined into an \"Other\" (O) pitch type. These pitches make up less than 1% of all pitches in the dataset."
   ]
  },
  {
   "cell_type": "markdown",
   "metadata": {},
   "source": [
    "## Combine all pitches with <1000 occurrences into 'Other' group"
   ]
  },
  {
   "cell_type": "code",
   "execution_count": 25,
   "metadata": {},
   "outputs": [
    {
     "data": {
      "text/plain": [
       "FF    237770\n",
       "SL    109507\n",
       "FT     80775\n",
       "CH     72127\n",
       "CU     56357\n",
       "SI     43480\n",
       "FC     41556\n",
       "FS     10460\n",
       "KC      8490\n",
       "IN      4058\n",
       "O       1176\n",
       "Name: pitch_type, dtype: int64"
      ]
     },
     "execution_count": 25,
     "metadata": {},
     "output_type": "execute_result"
    }
   ],
   "source": [
    "prior_fields_other = prior_fields_confidence.copy()\n",
    "prior_fields_other['pitch_type'] = np.where(prior_fields_other['pitch_type'].isin(['PO', 'FO', 'FA', 'EP', 'SC']),\n",
    "                                            'O',\n",
    "                                            prior_fields_other['pitch_type'])\n",
    "prior_fields_other['pitch_type'].value_counts()"
   ]
  },
  {
   "cell_type": "markdown",
   "metadata": {},
   "source": [
    "## Make *pitcher_id* and *batter_id* into categorical variables"
   ]
  },
  {
   "cell_type": "markdown",
   "metadata": {},
   "source": [
    "pitcher_id is important to keep, because pitchers often throw the same small group of pitches. There is no reason to place a bet that a pitcher will throw a type of pitch that isn't part of his usual repertoire.\n",
    "\n",
    "batter_id is also arguably a good field to use, since some batters could be strong against some types of pitches, and weak against others. A good pitcher could take advantage of this."
   ]
  },
  {
   "cell_type": "code",
   "execution_count": 26,
   "metadata": {
    "scrolled": true
   },
   "outputs": [
    {
     "data": {
      "text/plain": [
       "uid                  int64\n",
       "game_pk              int64\n",
       "year                 int64\n",
       "date                object\n",
       "team_id_b            int64\n",
       "team_id_p            int64\n",
       "inning               int64\n",
       "top                  int64\n",
       "at_bat_num           int64\n",
       "pcount_at_bat        int64\n",
       "pcount_pitcher       int64\n",
       "balls                int64\n",
       "strikes              int64\n",
       "fouls                int64\n",
       "outs                 int64\n",
       "start_tfs            int64\n",
       "start_tfs_zulu      object\n",
       "batter_id            int64\n",
       "stand               object\n",
       "b_height            object\n",
       "pitcher_id           int64\n",
       "p_throws            object\n",
       "away_team_runs       int64\n",
       "home_team_runs       int64\n",
       "pitch_id             int64\n",
       "on_1b              float64\n",
       "on_2b              float64\n",
       "on_3b              float64\n",
       "pitch_type          object\n",
       "type_confidence    float64\n",
       "dtype: object"
      ]
     },
     "execution_count": 26,
     "metadata": {},
     "output_type": "execute_result"
    }
   ],
   "source": [
    "prior_fields_other.dtypes"
   ]
  },
  {
   "cell_type": "code",
   "execution_count": 27,
   "metadata": {},
   "outputs": [],
   "source": [
    "prior_fields_ids = prior_fields_other.copy()\n",
    "prior_fields_ids['pitcher_id'] = prior_fields_ids['pitcher_id'].astype('category')\n",
    "prior_fields_ids['batter_id'] = prior_fields_ids['batter_id'].astype('category')"
   ]
  },
  {
   "cell_type": "code",
   "execution_count": 28,
   "metadata": {
    "scrolled": true
   },
   "outputs": [
    {
     "data": {
      "text/plain": [
       "uid                   int64\n",
       "game_pk               int64\n",
       "year                  int64\n",
       "date                 object\n",
       "team_id_b             int64\n",
       "team_id_p             int64\n",
       "inning                int64\n",
       "top                   int64\n",
       "at_bat_num            int64\n",
       "pcount_at_bat         int64\n",
       "pcount_pitcher        int64\n",
       "balls                 int64\n",
       "strikes               int64\n",
       "fouls                 int64\n",
       "outs                  int64\n",
       "start_tfs             int64\n",
       "start_tfs_zulu       object\n",
       "batter_id          category\n",
       "stand                object\n",
       "b_height             object\n",
       "pitcher_id         category\n",
       "p_throws             object\n",
       "away_team_runs        int64\n",
       "home_team_runs        int64\n",
       "pitch_id              int64\n",
       "on_1b               float64\n",
       "on_2b               float64\n",
       "on_3b               float64\n",
       "pitch_type           object\n",
       "type_confidence     float64\n",
       "dtype: object"
      ]
     },
     "execution_count": 28,
     "metadata": {},
     "output_type": "execute_result"
    }
   ],
   "source": [
    "prior_fields_ids.dtypes"
   ]
  },
  {
   "cell_type": "markdown",
   "metadata": {},
   "source": [
    "## Use *home_team_runs*, *away_team_runs*, and *top* to determine score differential from the pitching team's perspective"
   ]
  },
  {
   "cell_type": "markdown",
   "metadata": {},
   "source": [
    "The score of the game could affect pitch selection. However, the raw score is not as meaningful as the score differential (ie, a score of 2-1 is effectively equivalent to a score of 10-9), so a new field will be created that pulls the differential from the pitcher's perspective."
   ]
  },
  {
   "cell_type": "code",
   "execution_count": 29,
   "metadata": {},
   "outputs": [
    {
     "data": {
      "text/html": [
       "<div>\n",
       "<style scoped>\n",
       "    .dataframe tbody tr th:only-of-type {\n",
       "        vertical-align: middle;\n",
       "    }\n",
       "\n",
       "    .dataframe tbody tr th {\n",
       "        vertical-align: top;\n",
       "    }\n",
       "\n",
       "    .dataframe thead th {\n",
       "        text-align: right;\n",
       "    }\n",
       "</style>\n",
       "<table border=\"1\" class=\"dataframe\">\n",
       "  <thead>\n",
       "    <tr style=\"text-align: right;\">\n",
       "      <th></th>\n",
       "      <th>game_pk</th>\n",
       "      <th>team_id_p</th>\n",
       "      <th>inning</th>\n",
       "      <th>top</th>\n",
       "      <th>home_team_runs</th>\n",
       "      <th>away_team_runs</th>\n",
       "      <th>run_differential</th>\n",
       "    </tr>\n",
       "  </thead>\n",
       "  <tbody>\n",
       "    <tr>\n",
       "      <th>26</th>\n",
       "      <td>286874</td>\n",
       "      <td>108</td>\n",
       "      <td>1</td>\n",
       "      <td>0</td>\n",
       "      <td>0</td>\n",
       "      <td>0</td>\n",
       "      <td>0</td>\n",
       "    </tr>\n",
       "    <tr>\n",
       "      <th>40</th>\n",
       "      <td>286874</td>\n",
       "      <td>118</td>\n",
       "      <td>2</td>\n",
       "      <td>1</td>\n",
       "      <td>0</td>\n",
       "      <td>0</td>\n",
       "      <td>0</td>\n",
       "    </tr>\n",
       "    <tr>\n",
       "      <th>52</th>\n",
       "      <td>286874</td>\n",
       "      <td>108</td>\n",
       "      <td>2</td>\n",
       "      <td>0</td>\n",
       "      <td>0</td>\n",
       "      <td>0</td>\n",
       "      <td>0</td>\n",
       "    </tr>\n",
       "    <tr>\n",
       "      <th>65</th>\n",
       "      <td>286874</td>\n",
       "      <td>118</td>\n",
       "      <td>3</td>\n",
       "      <td>1</td>\n",
       "      <td>0</td>\n",
       "      <td>0</td>\n",
       "      <td>0</td>\n",
       "    </tr>\n",
       "    <tr>\n",
       "      <th>77</th>\n",
       "      <td>286874</td>\n",
       "      <td>108</td>\n",
       "      <td>3</td>\n",
       "      <td>0</td>\n",
       "      <td>0</td>\n",
       "      <td>0</td>\n",
       "      <td>0</td>\n",
       "    </tr>\n",
       "    <tr>\n",
       "      <th>...</th>\n",
       "      <td>...</td>\n",
       "      <td>...</td>\n",
       "      <td>...</td>\n",
       "      <td>...</td>\n",
       "      <td>...</td>\n",
       "      <td>...</td>\n",
       "      <td>...</td>\n",
       "    </tr>\n",
       "    <tr>\n",
       "      <th>718902</th>\n",
       "      <td>317073</td>\n",
       "      <td>140</td>\n",
       "      <td>7</td>\n",
       "      <td>0</td>\n",
       "      <td>5</td>\n",
       "      <td>2</td>\n",
       "      <td>-3</td>\n",
       "    </tr>\n",
       "    <tr>\n",
       "      <th>718916</th>\n",
       "      <td>317073</td>\n",
       "      <td>140</td>\n",
       "      <td>7</td>\n",
       "      <td>0</td>\n",
       "      <td>6</td>\n",
       "      <td>2</td>\n",
       "      <td>-4</td>\n",
       "    </tr>\n",
       "    <tr>\n",
       "      <th>718926</th>\n",
       "      <td>317073</td>\n",
       "      <td>138</td>\n",
       "      <td>8</td>\n",
       "      <td>1</td>\n",
       "      <td>6</td>\n",
       "      <td>2</td>\n",
       "      <td>4</td>\n",
       "    </tr>\n",
       "    <tr>\n",
       "      <th>718937</th>\n",
       "      <td>317073</td>\n",
       "      <td>140</td>\n",
       "      <td>8</td>\n",
       "      <td>0</td>\n",
       "      <td>6</td>\n",
       "      <td>2</td>\n",
       "      <td>-4</td>\n",
       "    </tr>\n",
       "    <tr>\n",
       "      <th>718950</th>\n",
       "      <td>317073</td>\n",
       "      <td>138</td>\n",
       "      <td>9</td>\n",
       "      <td>1</td>\n",
       "      <td>6</td>\n",
       "      <td>2</td>\n",
       "      <td>4</td>\n",
       "    </tr>\n",
       "  </tbody>\n",
       "</table>\n",
       "<p>59788 rows × 7 columns</p>\n",
       "</div>"
      ],
      "text/plain": [
       "        game_pk  team_id_p  inning  top  home_team_runs  away_team_runs  \\\n",
       "26       286874        108       1    0               0               0   \n",
       "40       286874        118       2    1               0               0   \n",
       "52       286874        108       2    0               0               0   \n",
       "65       286874        118       3    1               0               0   \n",
       "77       286874        108       3    0               0               0   \n",
       "...         ...        ...     ...  ...             ...             ...   \n",
       "718902   317073        140       7    0               5               2   \n",
       "718916   317073        140       7    0               6               2   \n",
       "718926   317073        138       8    1               6               2   \n",
       "718937   317073        140       8    0               6               2   \n",
       "718950   317073        138       9    1               6               2   \n",
       "\n",
       "        run_differential  \n",
       "26                     0  \n",
       "40                     0  \n",
       "52                     0  \n",
       "65                     0  \n",
       "77                     0  \n",
       "...                  ...  \n",
       "718902                -3  \n",
       "718916                -4  \n",
       "718926                 4  \n",
       "718937                -4  \n",
       "718950                 4  \n",
       "\n",
       "[59788 rows x 7 columns]"
      ]
     },
     "execution_count": 29,
     "metadata": {},
     "output_type": "execute_result"
    }
   ],
   "source": [
    "prior_fields_run_diff = prior_fields_ids.copy()\n",
    "prior_fields_run_diff['run_differential'] = np.where(prior_fields_run_diff['top'] == 1,\n",
    "                                                     prior_fields_run_diff['home_team_runs'] - prior_fields_run_diff['away_team_runs'],\n",
    "                                                     prior_fields_run_diff['away_team_runs'] - prior_fields_run_diff['home_team_runs'])\n",
    "prior_fields_run_diff[['game_pk', 'team_id_p', 'inning', 'top', 'home_team_runs', 'away_team_runs', 'run_differential']].drop_duplicates()"
   ]
  },
  {
   "cell_type": "markdown",
   "metadata": {},
   "source": [
    "## Use *inning* to determine number of innings left in the game, including the current inning (minimum 1, ie extra innings are always one inning away from end of game)"
   ]
  },
  {
   "cell_type": "markdown",
   "metadata": {},
   "source": [
    "The type of pitch could be influenced by how close the game is to its end. Since some games could go longer than 9 innings, using the raw inning number may lead to problems, so a new field is created that calculates how many innings are left to play, with all extra innings being considered the \"last\" inning.\n",
    "\n",
    "Note: Games that end in under 9 innings (perhaps due to inclement weather) may lead to inaccuracies, but these will be rare, plus the players can't plan ahead for this."
   ]
  },
  {
   "cell_type": "code",
   "execution_count": 30,
   "metadata": {
    "scrolled": true
   },
   "outputs": [
    {
     "data": {
      "text/html": [
       "<div>\n",
       "<style scoped>\n",
       "    .dataframe tbody tr th:only-of-type {\n",
       "        vertical-align: middle;\n",
       "    }\n",
       "\n",
       "    .dataframe tbody tr th {\n",
       "        vertical-align: top;\n",
       "    }\n",
       "\n",
       "    .dataframe thead th {\n",
       "        text-align: right;\n",
       "    }\n",
       "</style>\n",
       "<table border=\"1\" class=\"dataframe\">\n",
       "  <thead>\n",
       "    <tr style=\"text-align: right;\">\n",
       "      <th></th>\n",
       "      <th>inning</th>\n",
       "      <th>innings_remaining</th>\n",
       "      <th>count</th>\n",
       "    </tr>\n",
       "  </thead>\n",
       "  <tbody>\n",
       "    <tr>\n",
       "      <th>0</th>\n",
       "      <td>1</td>\n",
       "      <td>9</td>\n",
       "      <td>77126</td>\n",
       "    </tr>\n",
       "    <tr>\n",
       "      <th>6</th>\n",
       "      <td>2</td>\n",
       "      <td>8</td>\n",
       "      <td>73237</td>\n",
       "    </tr>\n",
       "    <tr>\n",
       "      <th>3</th>\n",
       "      <td>3</td>\n",
       "      <td>7</td>\n",
       "      <td>73637</td>\n",
       "    </tr>\n",
       "    <tr>\n",
       "      <th>5</th>\n",
       "      <td>4</td>\n",
       "      <td>6</td>\n",
       "      <td>73317</td>\n",
       "    </tr>\n",
       "    <tr>\n",
       "      <th>7</th>\n",
       "      <td>5</td>\n",
       "      <td>5</td>\n",
       "      <td>72732</td>\n",
       "    </tr>\n",
       "    <tr>\n",
       "      <th>4</th>\n",
       "      <td>6</td>\n",
       "      <td>4</td>\n",
       "      <td>73622</td>\n",
       "    </tr>\n",
       "    <tr>\n",
       "      <th>2</th>\n",
       "      <td>7</td>\n",
       "      <td>3</td>\n",
       "      <td>73791</td>\n",
       "    </tr>\n",
       "    <tr>\n",
       "      <th>1</th>\n",
       "      <td>8</td>\n",
       "      <td>2</td>\n",
       "      <td>74069</td>\n",
       "    </tr>\n",
       "    <tr>\n",
       "      <th>8</th>\n",
       "      <td>9</td>\n",
       "      <td>1</td>\n",
       "      <td>59542</td>\n",
       "    </tr>\n",
       "    <tr>\n",
       "      <th>9</th>\n",
       "      <td>10</td>\n",
       "      <td>1</td>\n",
       "      <td>7031</td>\n",
       "    </tr>\n",
       "    <tr>\n",
       "      <th>10</th>\n",
       "      <td>11</td>\n",
       "      <td>1</td>\n",
       "      <td>3703</td>\n",
       "    </tr>\n",
       "    <tr>\n",
       "      <th>11</th>\n",
       "      <td>12</td>\n",
       "      <td>1</td>\n",
       "      <td>1935</td>\n",
       "    </tr>\n",
       "    <tr>\n",
       "      <th>12</th>\n",
       "      <td>13</td>\n",
       "      <td>1</td>\n",
       "      <td>1062</td>\n",
       "    </tr>\n",
       "    <tr>\n",
       "      <th>13</th>\n",
       "      <td>14</td>\n",
       "      <td>1</td>\n",
       "      <td>581</td>\n",
       "    </tr>\n",
       "    <tr>\n",
       "      <th>14</th>\n",
       "      <td>15</td>\n",
       "      <td>1</td>\n",
       "      <td>138</td>\n",
       "    </tr>\n",
       "    <tr>\n",
       "      <th>15</th>\n",
       "      <td>16</td>\n",
       "      <td>1</td>\n",
       "      <td>83</td>\n",
       "    </tr>\n",
       "    <tr>\n",
       "      <th>18</th>\n",
       "      <td>17</td>\n",
       "      <td>1</td>\n",
       "      <td>47</td>\n",
       "    </tr>\n",
       "    <tr>\n",
       "      <th>16</th>\n",
       "      <td>18</td>\n",
       "      <td>1</td>\n",
       "      <td>54</td>\n",
       "    </tr>\n",
       "    <tr>\n",
       "      <th>17</th>\n",
       "      <td>19</td>\n",
       "      <td>1</td>\n",
       "      <td>49</td>\n",
       "    </tr>\n",
       "  </tbody>\n",
       "</table>\n",
       "</div>"
      ],
      "text/plain": [
       "    inning  innings_remaining  count\n",
       "0        1                  9  77126\n",
       "6        2                  8  73237\n",
       "3        3                  7  73637\n",
       "5        4                  6  73317\n",
       "7        5                  5  72732\n",
       "4        6                  4  73622\n",
       "2        7                  3  73791\n",
       "1        8                  2  74069\n",
       "8        9                  1  59542\n",
       "9       10                  1   7031\n",
       "10      11                  1   3703\n",
       "11      12                  1   1935\n",
       "12      13                  1   1062\n",
       "13      14                  1    581\n",
       "14      15                  1    138\n",
       "15      16                  1     83\n",
       "18      17                  1     47\n",
       "16      18                  1     54\n",
       "17      19                  1     49"
      ]
     },
     "execution_count": 30,
     "metadata": {},
     "output_type": "execute_result"
    }
   ],
   "source": [
    "prior_fields_innings_remaining = prior_fields_run_diff.copy()\n",
    "prior_fields_innings_remaining['innings_remaining'] = (10 - prior_fields_innings_remaining['inning']).clip(lower = 1)\n",
    "prior_fields_innings_remaining[['inning', 'innings_remaining']].value_counts().reset_index(name = 'count').sort_values('inning')"
   ]
  },
  {
   "cell_type": "markdown",
   "metadata": {},
   "source": [
    "## Use *stand* and *p_throws* to determine if pitcher and batter handedness match"
   ]
  },
  {
   "cell_type": "markdown",
   "metadata": {},
   "source": [
    "A new (dummy) variable will be created, to determine if the pitcher and batter both have the same handedness, or if they are different."
   ]
  },
  {
   "cell_type": "code",
   "execution_count": 31,
   "metadata": {},
   "outputs": [
    {
     "data": {
      "text/plain": [
       "stand  p_throws  handedness_match\n",
       "R      R         1                   247247\n",
       "L      R         0                   233427\n",
       "R      L         0                   130896\n",
       "L      L         1                    54186\n",
       "dtype: int64"
      ]
     },
     "execution_count": 31,
     "metadata": {},
     "output_type": "execute_result"
    }
   ],
   "source": [
    "prior_fields_handedness = prior_fields_innings_remaining.copy()\n",
    "prior_fields_handedness['handedness_match'] = np.where(prior_fields_handedness['stand'] == prior_fields_handedness['p_throws'],\n",
    "                                                       1,\n",
    "                                                       0)\n",
    "prior_fields_handedness[['stand', 'p_throws', 'handedness_match']].value_counts()"
   ]
  },
  {
   "cell_type": "markdown",
   "metadata": {},
   "source": [
    "## Convert *b_height* to inches"
   ]
  },
  {
   "cell_type": "markdown",
   "metadata": {},
   "source": [
    "Batter height is provided in feet-inches format. It will be converted to an inches format, so that the model can consider it a numeric variable."
   ]
  },
  {
   "cell_type": "code",
   "execution_count": 32,
   "metadata": {},
   "outputs": [
    {
     "name": "stdout",
     "output_type": "stream",
     "text": [
      "       b_height  height_ft  height_in  b_height_in\n",
      "424468      5-5          5          5           65\n",
      "98665       5-6          5          6           66\n",
      "639119      5-7          5          7           67\n",
      "65          5-8          5          8           68\n",
      "402         5-9          5          9           69\n",
      "26         5-10          5         10           70\n",
      "359        5-11          5         11           71\n",
      "45          6-0          6          0           72\n",
      "39          6-1          6          1           73\n",
      "95          6-2          6          2           74\n",
      "363         6-3          6          3           75\n",
      "40          6-4          6          4           76\n",
      "379         6-5          6          5           77\n",
      "391         6-6          6          6           78\n",
      "3938        6-7          6          7           79\n",
      "23014       6-8          6          8           80\n",
      "35650       6-9          6          9           81\n",
      "17442      6-10          6         10           82\n"
     ]
    }
   ],
   "source": [
    "prior_fields_height = prior_fields_handedness.copy()\n",
    "prior_fields_height[['height_ft', 'height_in']] = prior_fields_height['b_height'].str.split('-', expand = True).astype(int)\n",
    "prior_fields_height['b_height_in'] = (12 * prior_fields_height['height_ft']) + prior_fields_height['height_in']\n",
    "print(prior_fields_height[['b_height', 'height_ft', 'height_in', 'b_height_in']].drop_duplicates().sort_values('b_height_in'))\n",
    "prior_fields_height = prior_fields_height.drop(columns = ['height_ft', 'height_in'])"
   ]
  },
  {
   "cell_type": "code",
   "execution_count": 33,
   "metadata": {},
   "outputs": [
    {
     "data": {
      "image/png": "[encoded data removed]",
      "text/plain": [
       "<Figure size 432x288 with 1 Axes>"
      ]
     },
     "metadata": {
      "needs_background": "light"
     },
     "output_type": "display_data"
    }
   ],
   "source": [
    "# Plot of batter heights (in inches)\n",
    "plt.hist(prior_fields_height['b_height_in'])\n",
    "plt.show()\n",
    "# There are no outlier heights at either extreme"
   ]
  },
  {
   "cell_type": "markdown",
   "metadata": {},
   "source": [
    "## Make dummy variables to determine if there are runners on first, second, and third base, using *on_1b*, *on_2b*, and *on_3b*"
   ]
  },
  {
   "cell_type": "markdown",
   "metadata": {},
   "source": [
    "Players on bases may affect the type of pitch that is thrown. For example, with a runner on 1st, the pitcher may be more likely to throw a fastball or a pitchout, in the event that the runner tries to steal 2nd.\n",
    "\n",
    "The provided columns *on_1b*, *on_2b*, and *on_3b* give the IDs of the players on each base. Each of these columns will be converted to a simple yes/no dummy variable, indicating if any player is on that base."
   ]
  },
  {
   "cell_type": "code",
   "execution_count": 34,
   "metadata": {},
   "outputs": [
    {
     "data": {
      "text/plain": [
       "runner_1st  runner_2nd  runner_3rd\n",
       "0           0           0             377940\n",
       "1           0           0             120462\n",
       "0           1           0              56250\n",
       "1           1           0              44831\n",
       "            0           1              19484\n",
       "0           0           1              18028\n",
       "1           1           1              15174\n",
       "0           1           1              13587\n",
       "dtype: int64"
      ]
     },
     "execution_count": 34,
     "metadata": {},
     "output_type": "execute_result"
    }
   ],
   "source": [
    "prior_fields_runners = prior_fields_height.copy()\n",
    "prior_fields_runners['runner_1st'] = prior_fields_runners['on_1b'].notna().astype(int)\n",
    "prior_fields_runners['runner_2nd'] = prior_fields_runners['on_2b'].notna().astype(int)\n",
    "prior_fields_runners['runner_3rd'] = prior_fields_runners['on_3b'].notna().astype(int)\n",
    "prior_fields_runners[['runner_1st', 'runner_2nd', 'runner_3rd']].value_counts()"
   ]
  },
  {
   "cell_type": "markdown",
   "metadata": {},
   "source": [
    "# Last minute potential data issues"
   ]
  },
  {
   "cell_type": "markdown",
   "metadata": {},
   "source": [
    "## Number of balls/strikes/outs"
   ]
  },
  {
   "cell_type": "markdown",
   "metadata": {},
   "source": [
    "### There are two pitches when there are already 4 balls. This should be impossible."
   ]
  },
  {
   "cell_type": "code",
   "execution_count": 35,
   "metadata": {},
   "outputs": [
    {
     "name": "stdout",
     "output_type": "stream",
     "text": [
      "0    299375\n",
      "1    200680\n",
      "2    111961\n",
      "3     53738\n",
      "4         2\n",
      "Name: balls, dtype: int64\n"
     ]
    }
   ],
   "source": [
    "print(prior_fields_runners['balls'].value_counts())"
   ]
  },
  {
   "cell_type": "markdown",
   "metadata": {},
   "source": [
    "### Remove these two pitches from the dataset"
   ]
  },
  {
   "cell_type": "code",
   "execution_count": 36,
   "metadata": {},
   "outputs": [
    {
     "name": "stdout",
     "output_type": "stream",
     "text": [
      "665756\n",
      "665754\n"
     ]
    }
   ],
   "source": [
    "prior_fields_cleaned = prior_fields_runners.copy()\n",
    "prior_fields_cleaned = prior_fields_cleaned[prior_fields_cleaned['balls'] < 4]\n",
    "print(len(prior_fields_confidence))\n",
    "print(len(prior_fields_cleaned))"
   ]
  },
  {
   "cell_type": "markdown",
   "metadata": {},
   "source": [
    "### Strikes and outs do not have this problem"
   ]
  },
  {
   "cell_type": "code",
   "execution_count": 37,
   "metadata": {},
   "outputs": [
    {
     "name": "stdout",
     "output_type": "stream",
     "text": [
      "0    274932\n",
      "1    203250\n",
      "2    187572\n",
      "Name: strikes, dtype: int64\n",
      "1    229038\n",
      "0    225653\n",
      "2    211063\n",
      "Name: outs, dtype: int64\n"
     ]
    }
   ],
   "source": [
    "print(prior_fields_cleaned['strikes'].value_counts())\n",
    "print(prior_fields_cleaned['outs'].value_counts())"
   ]
  },
  {
   "cell_type": "markdown",
   "metadata": {},
   "source": [
    "### Confirming that all batters begin with 0-0 count"
   ]
  },
  {
   "cell_type": "code",
   "execution_count": 38,
   "metadata": {},
   "outputs": [
    {
     "name": "stdout",
     "output_type": "stream",
     "text": [
      "balls  strikes  fouls\n",
      "0      0        0        172546\n",
      "dtype: int64\n"
     ]
    }
   ],
   "source": [
    "print(prior_fields_cleaned[prior_fields_cleaned['pcount_at_bat'] == 1][['balls', 'strikes', 'fouls']].value_counts())"
   ]
  },
  {
   "cell_type": "markdown",
   "metadata": {},
   "source": [
    "## Looked at all other fields, and did not see anything out of the ordinary"
   ]
  },
  {
   "cell_type": "markdown",
   "metadata": {},
   "source": [
    "# Fields to use in the model"
   ]
  },
  {
   "cell_type": "markdown",
   "metadata": {},
   "source": [
    "## Dependent variable (classifications)"
   ]
  },
  {
   "cell_type": "markdown",
   "metadata": {},
   "source": [
    "**pitch_type**"
   ]
  },
  {
   "cell_type": "markdown",
   "metadata": {},
   "source": [
    "## Explanatory variables"
   ]
  },
  {
   "cell_type": "markdown",
   "metadata": {},
   "source": [
    "**pitcher_id**- unique identifier for pitcher\\\n",
    "**batter_id** - unique identifier for batter\\\n",
    "**b_height_in** - batter height in inches\\\n",
    "**handedness_match** - dummy; 1 if pitcher and batter handedness match, 0 otherwise\\\n",
    "**balls** - raw number of balls prior to pitch\\\n",
    "**strikes** - raw number of strikes prior to pitch\\\n",
    "**outs** - raw number of outs prior to pitch\\\n",
    "**fouls** - raw number of fouls in current at-bat, prior to pitch\\\n",
    "**innings_remaining** - 10 minus current inning (minimum 1)\\\n",
    "**run_differential** - home_team_runs minus away_team_runs\\\n",
    "**pcount_pitcher** - number of pitches thrown by current pitcher throughout the game, prior to current pitch\\\n",
    "**pcount_at_bat** - number of pitches thrown during current at-bat, prior to current pitch\\\n",
    "**runner_1st** - dummy; 1 if there is a runner on 1st base, 0 otherwise\\\n",
    "**runner_2nd** - dummy; 1 if there is a runner on 2nd base, 0 otherwise\\\n",
    "**runner_3rd** - dummy; 1 if there is a runner on 3rd base, 0 otherwise"
   ]
  },
  {
   "cell_type": "markdown",
   "metadata": {},
   "source": [
    "## The dataset"
   ]
  },
  {
   "cell_type": "code",
   "execution_count": 39,
   "metadata": {},
   "outputs": [
    {
     "data": {
      "text/html": [
       "<div>\n",
       "<style scoped>\n",
       "    .dataframe tbody tr th:only-of-type {\n",
       "        vertical-align: middle;\n",
       "    }\n",
       "\n",
       "    .dataframe tbody tr th {\n",
       "        vertical-align: top;\n",
       "    }\n",
       "\n",
       "    .dataframe thead th {\n",
       "        text-align: right;\n",
       "    }\n",
       "</style>\n",
       "<table border=\"1\" class=\"dataframe\">\n",
       "  <thead>\n",
       "    <tr style=\"text-align: right;\">\n",
       "      <th></th>\n",
       "      <th>pitcher_id</th>\n",
       "      <th>batter_id</th>\n",
       "      <th>b_height_in</th>\n",
       "      <th>handedness_match</th>\n",
       "      <th>balls</th>\n",
       "      <th>strikes</th>\n",
       "      <th>outs</th>\n",
       "      <th>fouls</th>\n",
       "      <th>innings_remaining</th>\n",
       "      <th>run_differential</th>\n",
       "      <th>pcount_pitcher</th>\n",
       "      <th>pcount_at_bat</th>\n",
       "      <th>runner_1st</th>\n",
       "      <th>runner_2nd</th>\n",
       "      <th>runner_3rd</th>\n",
       "      <th>pitch_type</th>\n",
       "    </tr>\n",
       "  </thead>\n",
       "  <tbody>\n",
       "    <tr>\n",
       "      <th>26</th>\n",
       "      <td>450308</td>\n",
       "      <td>449107</td>\n",
       "      <td>70</td>\n",
       "      <td>1</td>\n",
       "      <td>0</td>\n",
       "      <td>0</td>\n",
       "      <td>0</td>\n",
       "      <td>0</td>\n",
       "      <td>9</td>\n",
       "      <td>0</td>\n",
       "      <td>1</td>\n",
       "      <td>1</td>\n",
       "      <td>0</td>\n",
       "      <td>0</td>\n",
       "      <td>0</td>\n",
       "      <td>FF</td>\n",
       "    </tr>\n",
       "    <tr>\n",
       "      <th>27</th>\n",
       "      <td>450308</td>\n",
       "      <td>449107</td>\n",
       "      <td>70</td>\n",
       "      <td>1</td>\n",
       "      <td>0</td>\n",
       "      <td>1</td>\n",
       "      <td>0</td>\n",
       "      <td>0</td>\n",
       "      <td>9</td>\n",
       "      <td>0</td>\n",
       "      <td>2</td>\n",
       "      <td>2</td>\n",
       "      <td>0</td>\n",
       "      <td>0</td>\n",
       "      <td>0</td>\n",
       "      <td>FF</td>\n",
       "    </tr>\n",
       "    <tr>\n",
       "      <th>28</th>\n",
       "      <td>450308</td>\n",
       "      <td>449107</td>\n",
       "      <td>70</td>\n",
       "      <td>1</td>\n",
       "      <td>1</td>\n",
       "      <td>1</td>\n",
       "      <td>0</td>\n",
       "      <td>0</td>\n",
       "      <td>9</td>\n",
       "      <td>0</td>\n",
       "      <td>3</td>\n",
       "      <td>3</td>\n",
       "      <td>0</td>\n",
       "      <td>0</td>\n",
       "      <td>0</td>\n",
       "      <td>FF</td>\n",
       "    </tr>\n",
       "    <tr>\n",
       "      <th>29</th>\n",
       "      <td>450308</td>\n",
       "      <td>449107</td>\n",
       "      <td>70</td>\n",
       "      <td>1</td>\n",
       "      <td>2</td>\n",
       "      <td>1</td>\n",
       "      <td>0</td>\n",
       "      <td>0</td>\n",
       "      <td>9</td>\n",
       "      <td>0</td>\n",
       "      <td>4</td>\n",
       "      <td>4</td>\n",
       "      <td>0</td>\n",
       "      <td>0</td>\n",
       "      <td>0</td>\n",
       "      <td>FF</td>\n",
       "    </tr>\n",
       "    <tr>\n",
       "      <th>30</th>\n",
       "      <td>450308</td>\n",
       "      <td>449107</td>\n",
       "      <td>70</td>\n",
       "      <td>1</td>\n",
       "      <td>2</td>\n",
       "      <td>2</td>\n",
       "      <td>0</td>\n",
       "      <td>1</td>\n",
       "      <td>9</td>\n",
       "      <td>0</td>\n",
       "      <td>5</td>\n",
       "      <td>5</td>\n",
       "      <td>0</td>\n",
       "      <td>0</td>\n",
       "      <td>0</td>\n",
       "      <td>FF</td>\n",
       "    </tr>\n",
       "    <tr>\n",
       "      <th>31</th>\n",
       "      <td>450308</td>\n",
       "      <td>449107</td>\n",
       "      <td>70</td>\n",
       "      <td>1</td>\n",
       "      <td>2</td>\n",
       "      <td>2</td>\n",
       "      <td>0</td>\n",
       "      <td>2</td>\n",
       "      <td>9</td>\n",
       "      <td>0</td>\n",
       "      <td>6</td>\n",
       "      <td>6</td>\n",
       "      <td>0</td>\n",
       "      <td>0</td>\n",
       "      <td>0</td>\n",
       "      <td>SL</td>\n",
       "    </tr>\n",
       "    <tr>\n",
       "      <th>32</th>\n",
       "      <td>450308</td>\n",
       "      <td>449107</td>\n",
       "      <td>70</td>\n",
       "      <td>1</td>\n",
       "      <td>3</td>\n",
       "      <td>2</td>\n",
       "      <td>0</td>\n",
       "      <td>2</td>\n",
       "      <td>9</td>\n",
       "      <td>0</td>\n",
       "      <td>7</td>\n",
       "      <td>7</td>\n",
       "      <td>0</td>\n",
       "      <td>0</td>\n",
       "      <td>0</td>\n",
       "      <td>FF</td>\n",
       "    </tr>\n",
       "    <tr>\n",
       "      <th>33</th>\n",
       "      <td>450308</td>\n",
       "      <td>449107</td>\n",
       "      <td>70</td>\n",
       "      <td>1</td>\n",
       "      <td>3</td>\n",
       "      <td>2</td>\n",
       "      <td>0</td>\n",
       "      <td>3</td>\n",
       "      <td>9</td>\n",
       "      <td>0</td>\n",
       "      <td>8</td>\n",
       "      <td>8</td>\n",
       "      <td>0</td>\n",
       "      <td>0</td>\n",
       "      <td>0</td>\n",
       "      <td>FF</td>\n",
       "    </tr>\n",
       "    <tr>\n",
       "      <th>34</th>\n",
       "      <td>450308</td>\n",
       "      <td>449107</td>\n",
       "      <td>70</td>\n",
       "      <td>1</td>\n",
       "      <td>3</td>\n",
       "      <td>2</td>\n",
       "      <td>0</td>\n",
       "      <td>4</td>\n",
       "      <td>9</td>\n",
       "      <td>0</td>\n",
       "      <td>9</td>\n",
       "      <td>9</td>\n",
       "      <td>0</td>\n",
       "      <td>0</td>\n",
       "      <td>0</td>\n",
       "      <td>SL</td>\n",
       "    </tr>\n",
       "    <tr>\n",
       "      <th>35</th>\n",
       "      <td>450308</td>\n",
       "      <td>466320</td>\n",
       "      <td>70</td>\n",
       "      <td>0</td>\n",
       "      <td>0</td>\n",
       "      <td>0</td>\n",
       "      <td>1</td>\n",
       "      <td>0</td>\n",
       "      <td>9</td>\n",
       "      <td>0</td>\n",
       "      <td>10</td>\n",
       "      <td>1</td>\n",
       "      <td>0</td>\n",
       "      <td>0</td>\n",
       "      <td>0</td>\n",
       "      <td>FF</td>\n",
       "    </tr>\n",
       "  </tbody>\n",
       "</table>\n",
       "</div>"
      ],
      "text/plain": [
       "   pitcher_id batter_id  b_height_in  handedness_match  balls  strikes  outs  \\\n",
       "26     450308    449107           70                 1      0        0     0   \n",
       "27     450308    449107           70                 1      0        1     0   \n",
       "28     450308    449107           70                 1      1        1     0   \n",
       "29     450308    449107           70                 1      2        1     0   \n",
       "30     450308    449107           70                 1      2        2     0   \n",
       "31     450308    449107           70                 1      2        2     0   \n",
       "32     450308    449107           70                 1      3        2     0   \n",
       "33     450308    449107           70                 1      3        2     0   \n",
       "34     450308    449107           70                 1      3        2     0   \n",
       "35     450308    466320           70                 0      0        0     1   \n",
       "\n",
       "    fouls  innings_remaining  run_differential  pcount_pitcher  pcount_at_bat  \\\n",
       "26      0                  9                 0               1              1   \n",
       "27      0                  9                 0               2              2   \n",
       "28      0                  9                 0               3              3   \n",
       "29      0                  9                 0               4              4   \n",
       "30      1                  9                 0               5              5   \n",
       "31      2                  9                 0               6              6   \n",
       "32      2                  9                 0               7              7   \n",
       "33      3                  9                 0               8              8   \n",
       "34      4                  9                 0               9              9   \n",
       "35      0                  9                 0              10              1   \n",
       "\n",
       "    runner_1st  runner_2nd  runner_3rd pitch_type  \n",
       "26           0           0           0         FF  \n",
       "27           0           0           0         FF  \n",
       "28           0           0           0         FF  \n",
       "29           0           0           0         FF  \n",
       "30           0           0           0         FF  \n",
       "31           0           0           0         SL  \n",
       "32           0           0           0         FF  \n",
       "33           0           0           0         FF  \n",
       "34           0           0           0         SL  \n",
       "35           0           0           0         FF  "
      ]
     },
     "execution_count": 39,
     "metadata": {},
     "output_type": "execute_result"
    }
   ],
   "source": [
    "data = prior_fields_cleaned[['pitcher_id', 'batter_id', 'b_height_in', 'handedness_match',\n",
    "                             'balls', 'strikes', 'outs', 'fouls',\n",
    "                             'innings_remaining', 'run_differential',\n",
    "                             'pcount_pitcher', 'pcount_at_bat',\n",
    "                             'runner_1st', 'runner_2nd', 'runner_3rd',\n",
    "                             'pitch_type']]\n",
    "data.head(10)"
   ]
  },
  {
   "cell_type": "code",
   "execution_count": 40,
   "metadata": {},
   "outputs": [
    {
     "data": {
      "text/plain": [
       "pitcher_id           category\n",
       "batter_id            category\n",
       "b_height_in             int32\n",
       "handedness_match        int32\n",
       "balls                   int64\n",
       "strikes                 int64\n",
       "outs                    int64\n",
       "fouls                   int64\n",
       "innings_remaining       int64\n",
       "run_differential        int64\n",
       "pcount_pitcher          int64\n",
       "pcount_at_bat           int64\n",
       "runner_1st              int32\n",
       "runner_2nd              int32\n",
       "runner_3rd              int32\n",
       "pitch_type             object\n",
       "dtype: object"
      ]
     },
     "execution_count": 40,
     "metadata": {},
     "output_type": "execute_result"
    }
   ],
   "source": [
    "data.dtypes"
   ]
  },
  {
   "cell_type": "markdown",
   "metadata": {},
   "source": [
    "## Classification breakdown"
   ]
  },
  {
   "cell_type": "code",
   "execution_count": 41,
   "metadata": {},
   "outputs": [
    {
     "data": {
      "text/html": [
       "<div>\n",
       "<style scoped>\n",
       "    .dataframe tbody tr th:only-of-type {\n",
       "        vertical-align: middle;\n",
       "    }\n",
       "\n",
       "    .dataframe tbody tr th {\n",
       "        vertical-align: top;\n",
       "    }\n",
       "\n",
       "    .dataframe thead th {\n",
       "        text-align: right;\n",
       "    }\n",
       "</style>\n",
       "<table border=\"1\" class=\"dataframe\">\n",
       "  <thead>\n",
       "    <tr style=\"text-align: right;\">\n",
       "      <th></th>\n",
       "      <th>pitch_type</th>\n",
       "      <th>count</th>\n",
       "      <th>percent</th>\n",
       "    </tr>\n",
       "  </thead>\n",
       "  <tbody>\n",
       "    <tr>\n",
       "      <th>0</th>\n",
       "      <td>FF</td>\n",
       "      <td>237769</td>\n",
       "      <td>0.357142</td>\n",
       "    </tr>\n",
       "    <tr>\n",
       "      <th>1</th>\n",
       "      <td>SL</td>\n",
       "      <td>109507</td>\n",
       "      <td>0.164486</td>\n",
       "    </tr>\n",
       "    <tr>\n",
       "      <th>2</th>\n",
       "      <td>FT</td>\n",
       "      <td>80774</td>\n",
       "      <td>0.121327</td>\n",
       "    </tr>\n",
       "    <tr>\n",
       "      <th>3</th>\n",
       "      <td>CH</td>\n",
       "      <td>72127</td>\n",
       "      <td>0.108339</td>\n",
       "    </tr>\n",
       "    <tr>\n",
       "      <th>4</th>\n",
       "      <td>CU</td>\n",
       "      <td>56357</td>\n",
       "      <td>0.084651</td>\n",
       "    </tr>\n",
       "    <tr>\n",
       "      <th>5</th>\n",
       "      <td>SI</td>\n",
       "      <td>43480</td>\n",
       "      <td>0.065309</td>\n",
       "    </tr>\n",
       "    <tr>\n",
       "      <th>6</th>\n",
       "      <td>FC</td>\n",
       "      <td>41556</td>\n",
       "      <td>0.062419</td>\n",
       "    </tr>\n",
       "    <tr>\n",
       "      <th>7</th>\n",
       "      <td>FS</td>\n",
       "      <td>10460</td>\n",
       "      <td>0.015712</td>\n",
       "    </tr>\n",
       "    <tr>\n",
       "      <th>8</th>\n",
       "      <td>KC</td>\n",
       "      <td>8490</td>\n",
       "      <td>0.012752</td>\n",
       "    </tr>\n",
       "    <tr>\n",
       "      <th>9</th>\n",
       "      <td>IN</td>\n",
       "      <td>4058</td>\n",
       "      <td>0.006095</td>\n",
       "    </tr>\n",
       "    <tr>\n",
       "      <th>10</th>\n",
       "      <td>O</td>\n",
       "      <td>1176</td>\n",
       "      <td>0.001766</td>\n",
       "    </tr>\n",
       "  </tbody>\n",
       "</table>\n",
       "</div>"
      ],
      "text/plain": [
       "   pitch_type   count   percent\n",
       "0          FF  237769  0.357142\n",
       "1          SL  109507  0.164486\n",
       "2          FT   80774  0.121327\n",
       "3          CH   72127  0.108339\n",
       "4          CU   56357  0.084651\n",
       "5          SI   43480  0.065309\n",
       "6          FC   41556  0.062419\n",
       "7          FS   10460  0.015712\n",
       "8          KC    8490  0.012752\n",
       "9          IN    4058  0.006095\n",
       "10          O    1176  0.001766"
      ]
     },
     "execution_count": 41,
     "metadata": {},
     "output_type": "execute_result"
    }
   ],
   "source": [
    "# The Four-Seam Fastball (FF) is the most common pitch type by far, with more than double the occurrences of\n",
    "# the next most common pitch type\n",
    "data['pitch_type'].value_counts().reset_index(name = 'count').merge(\\\n",
    "data['pitch_type'].value_counts(normalize = True).reset_index(name = 'percent'), on = 'index').rename(\\\n",
    "columns = {'index':'pitch_type'})"
   ]
  },
  {
   "cell_type": "code",
   "execution_count": 42,
   "metadata": {},
   "outputs": [
    {
     "data": {
      "text/plain": [
       "<matplotlib.axes._subplots.AxesSubplot at 0x2581c231648>"
      ]
     },
     "execution_count": 42,
     "metadata": {},
     "output_type": "execute_result"
    },
    {
     "data": {
      "image/png": "[encoded data removed]",
      "text/plain": [
       "<Figure size 432x288 with 1 Axes>"
      ]
     },
     "metadata": {
      "needs_background": "light"
     },
     "output_type": "display_data"
    }
   ],
   "source": [
    "data['pitch_type'].value_counts(normalize = True).plot(kind = 'bar')"
   ]
  },
  {
   "cell_type": "markdown",
   "metadata": {},
   "source": [
    "## Explanatory variable correlations"
   ]
  },
  {
   "cell_type": "code",
   "execution_count": 43,
   "metadata": {},
   "outputs": [
    {
     "data": {
      "text/html": [
       "<div>\n",
       "<style scoped>\n",
       "    .dataframe tbody tr th:only-of-type {\n",
       "        vertical-align: middle;\n",
       "    }\n",
       "\n",
       "    .dataframe tbody tr th {\n",
       "        vertical-align: top;\n",
       "    }\n",
       "\n",
       "    .dataframe thead th {\n",
       "        text-align: right;\n",
       "    }\n",
       "</style>\n",
       "<table border=\"1\" class=\"dataframe\">\n",
       "  <thead>\n",
       "    <tr style=\"text-align: right;\">\n",
       "      <th></th>\n",
       "      <th>b_height_in</th>\n",
       "      <th>handedness_match</th>\n",
       "      <th>balls</th>\n",
       "      <th>strikes</th>\n",
       "      <th>outs</th>\n",
       "      <th>fouls</th>\n",
       "      <th>innings_remaining</th>\n",
       "      <th>run_differential</th>\n",
       "      <th>pcount_pitcher</th>\n",
       "      <th>pcount_at_bat</th>\n",
       "      <th>runner_1st</th>\n",
       "      <th>runner_2nd</th>\n",
       "      <th>runner_3rd</th>\n",
       "    </tr>\n",
       "  </thead>\n",
       "  <tbody>\n",
       "    <tr>\n",
       "      <th>b_height_in</th>\n",
       "      <td>1.000000</td>\n",
       "      <td>0.061375</td>\n",
       "      <td>0.008628</td>\n",
       "      <td>0.006640</td>\n",
       "      <td>0.025696</td>\n",
       "      <td>0.003415</td>\n",
       "      <td>0.011579</td>\n",
       "      <td>-0.006773</td>\n",
       "      <td>0.012666</td>\n",
       "      <td>0.005733</td>\n",
       "      <td>0.027163</td>\n",
       "      <td>0.014761</td>\n",
       "      <td>0.011294</td>\n",
       "    </tr>\n",
       "    <tr>\n",
       "      <th>handedness_match</th>\n",
       "      <td>0.061375</td>\n",
       "      <td>1.000000</td>\n",
       "      <td>-0.028518</td>\n",
       "      <td>0.015200</td>\n",
       "      <td>0.011770</td>\n",
       "      <td>-0.008345</td>\n",
       "      <td>-0.085299</td>\n",
       "      <td>-0.012126</td>\n",
       "      <td>-0.063142</td>\n",
       "      <td>-0.010324</td>\n",
       "      <td>0.019717</td>\n",
       "      <td>0.019371</td>\n",
       "      <td>0.018592</td>\n",
       "    </tr>\n",
       "    <tr>\n",
       "      <th>balls</th>\n",
       "      <td>0.008628</td>\n",
       "      <td>-0.028518</td>\n",
       "      <td>1.000000</td>\n",
       "      <td>0.366593</td>\n",
       "      <td>0.019489</td>\n",
       "      <td>0.307152</td>\n",
       "      <td>0.001867</td>\n",
       "      <td>-0.004371</td>\n",
       "      <td>0.030609</td>\n",
       "      <td>0.806972</td>\n",
       "      <td>-0.040466</td>\n",
       "      <td>0.031358</td>\n",
       "      <td>0.017596</td>\n",
       "    </tr>\n",
       "    <tr>\n",
       "      <th>strikes</th>\n",
       "      <td>0.006640</td>\n",
       "      <td>0.015200</td>\n",
       "      <td>0.366593</td>\n",
       "      <td>1.000000</td>\n",
       "      <td>-0.005408</td>\n",
       "      <td>0.594704</td>\n",
       "      <td>0.000177</td>\n",
       "      <td>0.010353</td>\n",
       "      <td>0.024976</td>\n",
       "      <td>0.788200</td>\n",
       "      <td>-0.035326</td>\n",
       "      <td>-0.007725</td>\n",
       "      <td>-0.013018</td>\n",
       "    </tr>\n",
       "    <tr>\n",
       "      <th>outs</th>\n",
       "      <td>0.025696</td>\n",
       "      <td>0.011770</td>\n",
       "      <td>0.019489</td>\n",
       "      <td>-0.005408</td>\n",
       "      <td>1.000000</td>\n",
       "      <td>-0.006127</td>\n",
       "      <td>-0.006162</td>\n",
       "      <td>-0.055878</td>\n",
       "      <td>0.087458</td>\n",
       "      <td>0.007070</td>\n",
       "      <td>0.152316</td>\n",
       "      <td>0.188532</td>\n",
       "      <td>0.158613</td>\n",
       "    </tr>\n",
       "    <tr>\n",
       "      <th>fouls</th>\n",
       "      <td>0.003415</td>\n",
       "      <td>-0.008345</td>\n",
       "      <td>0.307152</td>\n",
       "      <td>0.594704</td>\n",
       "      <td>-0.006127</td>\n",
       "      <td>1.000000</td>\n",
       "      <td>-0.011817</td>\n",
       "      <td>-0.002982</td>\n",
       "      <td>0.043284</td>\n",
       "      <td>0.675978</td>\n",
       "      <td>0.004440</td>\n",
       "      <td>0.014296</td>\n",
       "      <td>0.012400</td>\n",
       "    </tr>\n",
       "    <tr>\n",
       "      <th>innings_remaining</th>\n",
       "      <td>0.011579</td>\n",
       "      <td>-0.085299</td>\n",
       "      <td>0.001867</td>\n",
       "      <td>0.000177</td>\n",
       "      <td>-0.006162</td>\n",
       "      <td>-0.011817</td>\n",
       "      <td>1.000000</td>\n",
       "      <td>-0.055921</td>\n",
       "      <td>-0.024544</td>\n",
       "      <td>-0.000936</td>\n",
       "      <td>-0.007057</td>\n",
       "      <td>-0.011290</td>\n",
       "      <td>0.000166</td>\n",
       "    </tr>\n",
       "    <tr>\n",
       "      <th>run_differential</th>\n",
       "      <td>-0.006773</td>\n",
       "      <td>-0.012126</td>\n",
       "      <td>-0.004371</td>\n",
       "      <td>0.010353</td>\n",
       "      <td>-0.055878</td>\n",
       "      <td>-0.002982</td>\n",
       "      <td>-0.055921</td>\n",
       "      <td>1.000000</td>\n",
       "      <td>0.098546</td>\n",
       "      <td>0.003806</td>\n",
       "      <td>-0.023868</td>\n",
       "      <td>-0.052761</td>\n",
       "      <td>-0.056937</td>\n",
       "    </tr>\n",
       "    <tr>\n",
       "      <th>pcount_pitcher</th>\n",
       "      <td>0.012666</td>\n",
       "      <td>-0.063142</td>\n",
       "      <td>0.030609</td>\n",
       "      <td>0.024976</td>\n",
       "      <td>0.087458</td>\n",
       "      <td>0.043284</td>\n",
       "      <td>-0.024544</td>\n",
       "      <td>0.098546</td>\n",
       "      <td>1.000000</td>\n",
       "      <td>0.035825</td>\n",
       "      <td>0.025930</td>\n",
       "      <td>0.012275</td>\n",
       "      <td>0.004676</td>\n",
       "    </tr>\n",
       "    <tr>\n",
       "      <th>pcount_at_bat</th>\n",
       "      <td>0.005733</td>\n",
       "      <td>-0.010324</td>\n",
       "      <td>0.806972</td>\n",
       "      <td>0.788200</td>\n",
       "      <td>0.007070</td>\n",
       "      <td>0.675978</td>\n",
       "      <td>-0.000936</td>\n",
       "      <td>0.003806</td>\n",
       "      <td>0.035825</td>\n",
       "      <td>1.000000</td>\n",
       "      <td>-0.042909</td>\n",
       "      <td>0.015520</td>\n",
       "      <td>0.004191</td>\n",
       "    </tr>\n",
       "    <tr>\n",
       "      <th>runner_1st</th>\n",
       "      <td>0.027163</td>\n",
       "      <td>0.019717</td>\n",
       "      <td>-0.040466</td>\n",
       "      <td>-0.035326</td>\n",
       "      <td>0.152316</td>\n",
       "      <td>0.004440</td>\n",
       "      <td>-0.007057</td>\n",
       "      <td>-0.023868</td>\n",
       "      <td>0.025930</td>\n",
       "      <td>-0.042909</td>\n",
       "      <td>1.000000</td>\n",
       "      <td>0.173741</td>\n",
       "      <td>0.161474</td>\n",
       "    </tr>\n",
       "    <tr>\n",
       "      <th>runner_2nd</th>\n",
       "      <td>0.014761</td>\n",
       "      <td>0.019371</td>\n",
       "      <td>0.031358</td>\n",
       "      <td>-0.007725</td>\n",
       "      <td>0.188532</td>\n",
       "      <td>0.014296</td>\n",
       "      <td>-0.011290</td>\n",
       "      <td>-0.052761</td>\n",
       "      <td>0.012275</td>\n",
       "      <td>0.015520</td>\n",
       "      <td>0.173741</td>\n",
       "      <td>1.000000</td>\n",
       "      <td>0.200513</td>\n",
       "    </tr>\n",
       "    <tr>\n",
       "      <th>runner_3rd</th>\n",
       "      <td>0.011294</td>\n",
       "      <td>0.018592</td>\n",
       "      <td>0.017596</td>\n",
       "      <td>-0.013018</td>\n",
       "      <td>0.158613</td>\n",
       "      <td>0.012400</td>\n",
       "      <td>0.000166</td>\n",
       "      <td>-0.056937</td>\n",
       "      <td>0.004676</td>\n",
       "      <td>0.004191</td>\n",
       "      <td>0.161474</td>\n",
       "      <td>0.200513</td>\n",
       "      <td>1.000000</td>\n",
       "    </tr>\n",
       "  </tbody>\n",
       "</table>\n",
       "</div>"
      ],
      "text/plain": [
       "                   b_height_in  handedness_match     balls   strikes  \\\n",
       "b_height_in           1.000000          0.061375  0.008628  0.006640   \n",
       "handedness_match      0.061375          1.000000 -0.028518  0.015200   \n",
       "balls                 0.008628         -0.028518  1.000000  0.366593   \n",
       "strikes               0.006640          0.015200  0.366593  1.000000   \n",
       "outs                  0.025696          0.011770  0.019489 -0.005408   \n",
       "fouls                 0.003415         -0.008345  0.307152  0.594704   \n",
       "innings_remaining     0.011579         -0.085299  0.001867  0.000177   \n",
       "run_differential     -0.006773         -0.012126 -0.004371  0.010353   \n",
       "pcount_pitcher        0.012666         -0.063142  0.030609  0.024976   \n",
       "pcount_at_bat         0.005733         -0.010324  0.806972  0.788200   \n",
       "runner_1st            0.027163          0.019717 -0.040466 -0.035326   \n",
       "runner_2nd            0.014761          0.019371  0.031358 -0.007725   \n",
       "runner_3rd            0.011294          0.018592  0.017596 -0.013018   \n",
       "\n",
       "                       outs     fouls  innings_remaining  run_differential  \\\n",
       "b_height_in        0.025696  0.003415           0.011579         -0.006773   \n",
       "handedness_match   0.011770 -0.008345          -0.085299         -0.012126   \n",
       "balls              0.019489  0.307152           0.001867         -0.004371   \n",
       "strikes           -0.005408  0.594704           0.000177          0.010353   \n",
       "outs               1.000000 -0.006127          -0.006162         -0.055878   \n",
       "fouls             -0.006127  1.000000          -0.011817         -0.002982   \n",
       "innings_remaining -0.006162 -0.011817           1.000000         -0.055921   \n",
       "run_differential  -0.055878 -0.002982          -0.055921          1.000000   \n",
       "pcount_pitcher     0.087458  0.043284          -0.024544          0.098546   \n",
       "pcount_at_bat      0.007070  0.675978          -0.000936          0.003806   \n",
       "runner_1st         0.152316  0.004440          -0.007057         -0.023868   \n",
       "runner_2nd         0.188532  0.014296          -0.011290         -0.052761   \n",
       "runner_3rd         0.158613  0.012400           0.000166         -0.056937   \n",
       "\n",
       "                   pcount_pitcher  pcount_at_bat  runner_1st  runner_2nd  \\\n",
       "b_height_in              0.012666       0.005733    0.027163    0.014761   \n",
       "handedness_match        -0.063142      -0.010324    0.019717    0.019371   \n",
       "balls                    0.030609       0.806972   -0.040466    0.031358   \n",
       "strikes                  0.024976       0.788200   -0.035326   -0.007725   \n",
       "outs                     0.087458       0.007070    0.152316    0.188532   \n",
       "fouls                    0.043284       0.675978    0.004440    0.014296   \n",
       "innings_remaining       -0.024544      -0.000936   -0.007057   -0.011290   \n",
       "run_differential         0.098546       0.003806   -0.023868   -0.052761   \n",
       "pcount_pitcher           1.000000       0.035825    0.025930    0.012275   \n",
       "pcount_at_bat            0.035825       1.000000   -0.042909    0.015520   \n",
       "runner_1st               0.025930      -0.042909    1.000000    0.173741   \n",
       "runner_2nd               0.012275       0.015520    0.173741    1.000000   \n",
       "runner_3rd               0.004676       0.004191    0.161474    0.200513   \n",
       "\n",
       "                   runner_3rd  \n",
       "b_height_in          0.011294  \n",
       "handedness_match     0.018592  \n",
       "balls                0.017596  \n",
       "strikes             -0.013018  \n",
       "outs                 0.158613  \n",
       "fouls                0.012400  \n",
       "innings_remaining    0.000166  \n",
       "run_differential    -0.056937  \n",
       "pcount_pitcher       0.004676  \n",
       "pcount_at_bat        0.004191  \n",
       "runner_1st           0.161474  \n",
       "runner_2nd           0.200513  \n",
       "runner_3rd           1.000000  "
      ]
     },
     "execution_count": 43,
     "metadata": {},
     "output_type": "execute_result"
    }
   ],
   "source": [
    "data.corr()"
   ]
  },
  {
   "cell_type": "markdown",
   "metadata": {},
   "source": [
    "## The following groups of variables have some association:\n",
    "Very strong:\n",
    "- pcount_at_bat and balls/strikes/fouls\n",
    "    - none of these are surprising; all three of these start at 0, and only increase as pcount_at_bat increases\n",
    "    - pcount_at_bat should probably be dropped from the model\n",
    "- balls, strikes, and fouls\n",
    "    - strikes and fouls is expected; balls and strikes is also expected, though not as much\n",
    "    - maybe fouls can be dropped from the model\n",
    "\n",
    "Moderate:\n",
    "- runner_1st, runner_2nd, and runner_3rd\n",
    "- outs and runner_1st/runner_2nd/runner_3rd\n",
    "    - at the start of every inning, there are 0 outs and no runners on any base\n",
    "       - this was before the rule that puts a runner on 2nd at the start of every extra inning (2020)\n",
    "    - all of these fields should probably stay in the model"
   ]
  },
  {
   "cell_type": "markdown",
   "metadata": {},
   "source": [
    "# Modeling"
   ]
  },
  {
   "cell_type": "markdown",
   "metadata": {},
   "source": [
    "## Split explanatory variables and classification labels into separate Data Frames\n",
    "## The fields *pcount_at_bat* and *fouls* are removed, due to high correlations with other fields"
   ]
  },
  {
   "cell_type": "code",
   "execution_count": 44,
   "metadata": {},
   "outputs": [],
   "source": [
    "X = data.drop(columns = ['pitch_type', 'pcount_at_bat', 'fouls'])\n",
    "y = data['pitch_type']"
   ]
  },
  {
   "cell_type": "markdown",
   "metadata": {},
   "source": [
    "## Make train and test sets"
   ]
  },
  {
   "cell_type": "markdown",
   "metadata": {},
   "source": [
    "### In order to test the accuracy of the model, the full dataset will be split into a train set, which will be used to build the model, and a test set, which will be used to see how the model does over a \"different\" set of data.\n",
    "### The train/test sets will be a 60/40 split of the full dataset, with rows assigned randomly to one or the other."
   ]
  },
  {
   "cell_type": "code",
   "execution_count": 45,
   "metadata": {},
   "outputs": [],
   "source": [
    "X_train, X_test, y_train, y_test = train_test_split(X, y, train_size = 0.6, random_state = 1)"
   ]
  },
  {
   "cell_type": "code",
   "execution_count": 46,
   "metadata": {},
   "outputs": [
    {
     "name": "stdout",
     "output_type": "stream",
     "text": [
      "399452\n",
      "399452\n",
      "266302\n",
      "266302\n"
     ]
    }
   ],
   "source": [
    "print(len(X_train))\n",
    "print(len(y_train))\n",
    "print(len(X_test))\n",
    "print(len(y_test))"
   ]
  },
  {
   "cell_type": "markdown",
   "metadata": {},
   "source": [
    "## Model 1: multinomial logistic regression"
   ]
  },
  {
   "cell_type": "markdown",
   "metadata": {},
   "source": [
    "### Build the model"
   ]
  },
  {
   "cell_type": "code",
   "execution_count": 47,
   "metadata": {},
   "outputs": [
    {
     "name": "stdout",
     "output_type": "stream",
     "text": [
      "Wall time: 29 s\n"
     ]
    }
   ],
   "source": [
    "%%time\n",
    "# Define the model\n",
    "model = LogisticRegression(multi_class = 'multinomial', max_iter = 1000000)\n",
    "# Fit the model to the train set\n",
    "mlr_model = model.fit(X_train, y_train)"
   ]
  },
  {
   "cell_type": "markdown",
   "metadata": {},
   "source": [
    "### Use the model to predict pitch_type in the test set"
   ]
  },
  {
   "cell_type": "code",
   "execution_count": 48,
   "metadata": {},
   "outputs": [],
   "source": [
    "mlr_model_predictions = mlr_model.predict(X_test)"
   ]
  },
  {
   "cell_type": "code",
   "execution_count": 49,
   "metadata": {},
   "outputs": [
    {
     "data": {
      "text/plain": [
       "FF    266302\n",
       "dtype: int64"
      ]
     },
     "execution_count": 49,
     "metadata": {},
     "output_type": "execute_result"
    }
   ],
   "source": [
    "pd.DataFrame(mlr_model_predictions).value_counts()"
   ]
  },
  {
   "cell_type": "markdown",
   "metadata": {},
   "source": [
    "### Model accuracy"
   ]
  },
  {
   "cell_type": "code",
   "execution_count": 50,
   "metadata": {},
   "outputs": [
    {
     "name": "stderr",
     "output_type": "stream",
     "text": [
      "C:\\Users\\sorin\\AppData\\Local\\Continuum\\anaconda3\\lib\\site-packages\\sklearn\\metrics\\_classification.py:1318: UndefinedMetricWarning: Precision and F-score are ill-defined and being set to 0.0 in labels with no predicted samples. Use `zero_division` parameter to control this behavior.\n",
      "  _warn_prf(average, modifier, msg_start, len(result))\n",
      "C:\\Users\\sorin\\AppData\\Local\\Continuum\\anaconda3\\lib\\site-packages\\sklearn\\metrics\\_classification.py:1318: UndefinedMetricWarning: Precision and F-score are ill-defined and being set to 0.0 in labels with no predicted samples. Use `zero_division` parameter to control this behavior.\n",
      "  _warn_prf(average, modifier, msg_start, len(result))\n"
     ]
    },
    {
     "name": "stdout",
     "output_type": "stream",
     "text": [
      "              precision    recall  f1-score   support\n",
      "\n",
      "          CH       0.00      0.00      0.00     28671\n",
      "          CU       0.00      0.00      0.00     22539\n",
      "          FC       0.00      0.00      0.00     16709\n",
      "          FF       0.36      1.00      0.53     94836\n",
      "          FS       0.00      0.00      0.00      4134\n",
      "          FT       0.00      0.00      0.00     32600\n",
      "          IN       0.00      0.00      0.00      1657\n",
      "          KC       0.00      0.00      0.00      3421\n",
      "           O       0.00      0.00      0.00       521\n",
      "          SI       0.00      0.00      0.00     17440\n",
      "          SL       0.00      0.00      0.00     43774\n",
      "\n",
      "    accuracy                           0.36    266302\n",
      "   macro avg       0.03      0.09      0.05    266302\n",
      "weighted avg       0.13      0.36      0.19    266302\n",
      "\n"
     ]
    },
    {
     "name": "stderr",
     "output_type": "stream",
     "text": [
      "C:\\Users\\sorin\\AppData\\Local\\Continuum\\anaconda3\\lib\\site-packages\\sklearn\\metrics\\_classification.py:1318: UndefinedMetricWarning: Precision and F-score are ill-defined and being set to 0.0 in labels with no predicted samples. Use `zero_division` parameter to control this behavior.\n",
      "  _warn_prf(average, modifier, msg_start, len(result))\n"
     ]
    }
   ],
   "source": [
    "print(classification_report(y_test, mlr_model_predictions))"
   ]
  },
  {
   "cell_type": "code",
   "execution_count": 51,
   "metadata": {},
   "outputs": [
    {
     "name": "stdout",
     "output_type": "stream",
     "text": [
      "Accuracy score: 0.3561219968306659\n"
     ]
    }
   ],
   "source": [
    "print('Accuracy score:', accuracy_score(y_test, mlr_model_predictions))"
   ]
  },
  {
   "cell_type": "code",
   "execution_count": 52,
   "metadata": {},
   "outputs": [
    {
     "data": {
      "text/plain": [
       "FF    0.356122\n",
       "SL    0.164377\n",
       "FT    0.122417\n",
       "CH    0.107663\n",
       "CU    0.084637\n",
       "SI    0.065490\n",
       "FC    0.062745\n",
       "FS    0.015524\n",
       "KC    0.012846\n",
       "IN    0.006222\n",
       "O     0.001956\n",
       "Name: pitch_type, dtype: float64"
      ]
     },
     "execution_count": 52,
     "metadata": {},
     "output_type": "execute_result"
    }
   ],
   "source": [
    "y_test.value_counts(normalize = True)"
   ]
  },
  {
   "cell_type": "markdown",
   "metadata": {},
   "source": [
    "### The model predicts a Four-Seam Fastball (FF) for every pitch. Since that is by far the most common pitch type in the train set, this strategy leads to an overall model accuracy of ~36%, which is the exact percentage of FF pitches in the test set."
   ]
  },
  {
   "cell_type": "markdown",
   "metadata": {},
   "source": [
    "## Model 2: multinomial logistic regression with balanced class weights (to account for large discrepancies in pitch_type frequencies)"
   ]
  },
  {
   "cell_type": "markdown",
   "metadata": {},
   "source": [
    "### Build the model"
   ]
  },
  {
   "cell_type": "code",
   "execution_count": 53,
   "metadata": {},
   "outputs": [
    {
     "name": "stdout",
     "output_type": "stream",
     "text": [
      "Wall time: 10.7 s\n"
     ]
    }
   ],
   "source": [
    "%%time\n",
    "# Define the model, using balanced class weights\n",
    "model_balanced = LogisticRegression(multi_class = 'multinomial', class_weight = 'balanced', max_iter = 1000000)\n",
    "# Fit the model to the train set\n",
    "mlr_model_balanced = model_balanced.fit(X_train, y_train)"
   ]
  },
  {
   "cell_type": "markdown",
   "metadata": {},
   "source": [
    "### Use the model to predict pitch_type in the test set"
   ]
  },
  {
   "cell_type": "code",
   "execution_count": 54,
   "metadata": {},
   "outputs": [],
   "source": [
    "mlr_model_balanced_predictions = mlr_model_balanced.predict(X_test)"
   ]
  },
  {
   "cell_type": "code",
   "execution_count": 55,
   "metadata": {},
   "outputs": [
    {
     "data": {
      "text/plain": [
       "FT    97741\n",
       "KC    84311\n",
       "FS    58025\n",
       "CU    26225\n",
       "dtype: int64"
      ]
     },
     "execution_count": 55,
     "metadata": {},
     "output_type": "execute_result"
    }
   ],
   "source": [
    "pd.DataFrame(mlr_model_balanced_predictions).value_counts()"
   ]
  },
  {
   "cell_type": "markdown",
   "metadata": {},
   "source": [
    "### Model accuracy"
   ]
  },
  {
   "cell_type": "code",
   "execution_count": 56,
   "metadata": {},
   "outputs": [
    {
     "name": "stderr",
     "output_type": "stream",
     "text": [
      "C:\\Users\\sorin\\AppData\\Local\\Continuum\\anaconda3\\lib\\site-packages\\sklearn\\metrics\\_classification.py:1318: UndefinedMetricWarning: Precision and F-score are ill-defined and being set to 0.0 in labels with no predicted samples. Use `zero_division` parameter to control this behavior.\n",
      "  _warn_prf(average, modifier, msg_start, len(result))\n",
      "C:\\Users\\sorin\\AppData\\Local\\Continuum\\anaconda3\\lib\\site-packages\\sklearn\\metrics\\_classification.py:1318: UndefinedMetricWarning: Precision and F-score are ill-defined and being set to 0.0 in labels with no predicted samples. Use `zero_division` parameter to control this behavior.\n",
      "  _warn_prf(average, modifier, msg_start, len(result))\n"
     ]
    },
    {
     "name": "stdout",
     "output_type": "stream",
     "text": [
      "              precision    recall  f1-score   support\n",
      "\n",
      "          CH       0.00      0.00      0.00     28671\n",
      "          CU       0.09      0.11      0.10     22539\n",
      "          FC       0.00      0.00      0.00     16709\n",
      "          FF       0.00      0.00      0.00     94836\n",
      "          FS       0.02      0.32      0.04      4134\n",
      "          FT       0.13      0.38      0.19     32600\n",
      "          IN       0.00      0.00      0.00      1657\n",
      "          KC       0.01      0.34      0.03      3421\n",
      "           O       0.00      0.00      0.00       521\n",
      "          SI       0.00      0.00      0.00     17440\n",
      "          SL       0.00      0.00      0.00     43774\n",
      "\n",
      "    accuracy                           0.06    266302\n",
      "   macro avg       0.02      0.10      0.03    266302\n",
      "weighted avg       0.02      0.06      0.03    266302\n",
      "\n"
     ]
    },
    {
     "name": "stderr",
     "output_type": "stream",
     "text": [
      "C:\\Users\\sorin\\AppData\\Local\\Continuum\\anaconda3\\lib\\site-packages\\sklearn\\metrics\\_classification.py:1318: UndefinedMetricWarning: Precision and F-score are ill-defined and being set to 0.0 in labels with no predicted samples. Use `zero_division` parameter to control this behavior.\n",
      "  _warn_prf(average, modifier, msg_start, len(result))\n"
     ]
    }
   ],
   "source": [
    "print(classification_report(y_test, mlr_model_balanced_predictions))"
   ]
  },
  {
   "cell_type": "markdown",
   "metadata": {},
   "source": [
    "### The balanced class weights overcorrected for the differences in group sizes, and resulted in a model with a very low accuracy of ~6%."
   ]
  },
  {
   "cell_type": "markdown",
   "metadata": {},
   "source": [
    "## Model 3: random forest classifier"
   ]
  },
  {
   "cell_type": "markdown",
   "metadata": {},
   "source": [
    "### Build the model"
   ]
  },
  {
   "cell_type": "code",
   "execution_count": 57,
   "metadata": {
    "scrolled": true
   },
   "outputs": [
    {
     "name": "stdout",
     "output_type": "stream",
     "text": [
      "Wall time: 1min 46s\n"
     ]
    }
   ],
   "source": [
    "%%time\n",
    "# Define the model (with the default 100 trees)\n",
    "rfc = RandomForestClassifier(random_state = 1)\n",
    "# Fit the model to the train set\n",
    "rfc_model = rfc.fit(X_train, y_train)"
   ]
  },
  {
   "cell_type": "markdown",
   "metadata": {},
   "source": [
    "### Use the model to predict pitch_type in the test set"
   ]
  },
  {
   "cell_type": "code",
   "execution_count": 58,
   "metadata": {},
   "outputs": [],
   "source": [
    "rfc_model_predictions = rfc_model.predict(X_test)"
   ]
  },
  {
   "cell_type": "code",
   "execution_count": 59,
   "metadata": {},
   "outputs": [
    {
     "data": {
      "text/plain": [
       "FF    164069\n",
       "SL     36590\n",
       "CH     21398\n",
       "FT     15760\n",
       "CU     10973\n",
       "SI      7314\n",
       "FC      6762\n",
       "IN      1515\n",
       "FS      1019\n",
       "KC       814\n",
       "O         88\n",
       "dtype: int64"
      ]
     },
     "execution_count": 59,
     "metadata": {},
     "output_type": "execute_result"
    }
   ],
   "source": [
    "pd.DataFrame(rfc_model_predictions).value_counts()"
   ]
  },
  {
   "cell_type": "markdown",
   "metadata": {},
   "source": [
    "### Model accuracy"
   ]
  },
  {
   "cell_type": "code",
   "execution_count": 60,
   "metadata": {},
   "outputs": [
    {
     "name": "stdout",
     "output_type": "stream",
     "text": [
      "              precision    recall  f1-score   support\n",
      "\n",
      "          CH       0.26      0.20      0.23     28671\n",
      "          CU       0.25      0.12      0.17     22539\n",
      "          FC       0.36      0.14      0.21     16709\n",
      "          FF       0.42      0.73      0.53     94836\n",
      "          FS       0.29      0.07      0.11      4134\n",
      "          FT       0.35      0.17      0.23     32600\n",
      "          IN       0.75      0.69      0.72      1657\n",
      "          KC       0.27      0.07      0.11      3421\n",
      "           O       0.28      0.05      0.08       521\n",
      "          SI       0.45      0.19      0.26     17440\n",
      "          SL       0.35      0.29      0.32     43774\n",
      "\n",
      "    accuracy                           0.39    266302\n",
      "   macro avg       0.37      0.25      0.27    266302\n",
      "weighted avg       0.36      0.39      0.35    266302\n",
      "\n"
     ]
    }
   ],
   "source": [
    "print(classification_report(y_test, rfc_model_predictions))"
   ]
  },
  {
   "cell_type": "code",
   "execution_count": 61,
   "metadata": {},
   "outputs": [
    {
     "name": "stdout",
     "output_type": "stream",
     "text": [
      "Accuracy score: 0.38740227260779114\n"
     ]
    }
   ],
   "source": [
    "print('Accuracy score:', accuracy_score(y_test, rfc_model_predictions))"
   ]
  },
  {
   "cell_type": "markdown",
   "metadata": {},
   "source": [
    "### This is the most accurate model of the three (~39%), and it actually guesses each of the different pitch_type values at least a handful of times.\n",
    "### The model does an especially good job of predicting Intentional Balls (IN), which given how situational that pitch is, isn't very surprising."
   ]
  },
  {
   "cell_type": "markdown",
   "metadata": {},
   "source": [
    "### Confusion matrix"
   ]
  },
  {
   "cell_type": "code",
   "execution_count": 62,
   "metadata": {
    "scrolled": true
   },
   "outputs": [
    {
     "data": {
      "text/html": [
       "<div>\n",
       "<style scoped>\n",
       "    .dataframe tbody tr th:only-of-type {\n",
       "        vertical-align: middle;\n",
       "    }\n",
       "\n",
       "    .dataframe tbody tr th {\n",
       "        vertical-align: top;\n",
       "    }\n",
       "\n",
       "    .dataframe thead th {\n",
       "        text-align: right;\n",
       "    }\n",
       "</style>\n",
       "<table border=\"1\" class=\"dataframe\">\n",
       "  <thead>\n",
       "    <tr style=\"text-align: right;\">\n",
       "      <th></th>\n",
       "      <th>CH</th>\n",
       "      <th>CU</th>\n",
       "      <th>FC</th>\n",
       "      <th>FF</th>\n",
       "      <th>FS</th>\n",
       "      <th>FT</th>\n",
       "      <th>IN</th>\n",
       "      <th>KC</th>\n",
       "      <th>O</th>\n",
       "      <th>SI</th>\n",
       "      <th>SL</th>\n",
       "    </tr>\n",
       "  </thead>\n",
       "  <tbody>\n",
       "    <tr>\n",
       "      <th>CH</th>\n",
       "      <td>0.197726</td>\n",
       "      <td>0.050756</td>\n",
       "      <td>0.040697</td>\n",
       "      <td>0.167700</td>\n",
       "      <td>0.009434</td>\n",
       "      <td>0.057975</td>\n",
       "      <td>0.039831</td>\n",
       "      <td>0.033031</td>\n",
       "      <td>0.011516</td>\n",
       "      <td>0.041284</td>\n",
       "      <td>0.055741</td>\n",
       "    </tr>\n",
       "    <tr>\n",
       "      <th>CU</th>\n",
       "      <td>0.069199</td>\n",
       "      <td>0.123164</td>\n",
       "      <td>0.048297</td>\n",
       "      <td>0.131501</td>\n",
       "      <td>0.017417</td>\n",
       "      <td>0.040307</td>\n",
       "      <td>0.010863</td>\n",
       "      <td>0.002338</td>\n",
       "      <td>0.011516</td>\n",
       "      <td>0.026663</td>\n",
       "      <td>0.059807</td>\n",
       "    </tr>\n",
       "    <tr>\n",
       "      <th>FC</th>\n",
       "      <td>0.049946</td>\n",
       "      <td>0.042238</td>\n",
       "      <td>0.144892</td>\n",
       "      <td>0.094858</td>\n",
       "      <td>0.011127</td>\n",
       "      <td>0.022822</td>\n",
       "      <td>0.013277</td>\n",
       "      <td>0.016077</td>\n",
       "      <td>0.005758</td>\n",
       "      <td>0.030963</td>\n",
       "      <td>0.034221</td>\n",
       "    </tr>\n",
       "    <tr>\n",
       "      <th>FF</th>\n",
       "      <td>0.186635</td>\n",
       "      <td>0.132792</td>\n",
       "      <td>0.079718</td>\n",
       "      <td>0.729164</td>\n",
       "      <td>0.070150</td>\n",
       "      <td>0.114693</td>\n",
       "      <td>0.082076</td>\n",
       "      <td>0.073663</td>\n",
       "      <td>0.049904</td>\n",
       "      <td>0.052179</td>\n",
       "      <td>0.243432</td>\n",
       "    </tr>\n",
       "    <tr>\n",
       "      <th>FS</th>\n",
       "      <td>0.009313</td>\n",
       "      <td>0.009495</td>\n",
       "      <td>0.003950</td>\n",
       "      <td>0.025486</td>\n",
       "      <td>0.070876</td>\n",
       "      <td>0.005644</td>\n",
       "      <td>0.004828</td>\n",
       "      <td>0.000292</td>\n",
       "      <td>0.000000</td>\n",
       "      <td>0.009748</td>\n",
       "      <td>0.011742</td>\n",
       "    </tr>\n",
       "    <tr>\n",
       "      <th>FT</th>\n",
       "      <td>0.085103</td>\n",
       "      <td>0.051644</td>\n",
       "      <td>0.026932</td>\n",
       "      <td>0.203109</td>\n",
       "      <td>0.019352</td>\n",
       "      <td>0.168037</td>\n",
       "      <td>0.026554</td>\n",
       "      <td>0.018123</td>\n",
       "      <td>0.023033</td>\n",
       "      <td>0.008716</td>\n",
       "      <td>0.078951</td>\n",
       "    </tr>\n",
       "    <tr>\n",
       "      <th>IN</th>\n",
       "      <td>0.001535</td>\n",
       "      <td>0.000799</td>\n",
       "      <td>0.000778</td>\n",
       "      <td>0.003480</td>\n",
       "      <td>0.000242</td>\n",
       "      <td>0.000706</td>\n",
       "      <td>0.687387</td>\n",
       "      <td>0.000000</td>\n",
       "      <td>0.001919</td>\n",
       "      <td>0.000688</td>\n",
       "      <td>0.001736</td>\n",
       "    </tr>\n",
       "    <tr>\n",
       "      <th>KC</th>\n",
       "      <td>0.014126</td>\n",
       "      <td>0.001908</td>\n",
       "      <td>0.004070</td>\n",
       "      <td>0.021532</td>\n",
       "      <td>0.000242</td>\n",
       "      <td>0.005644</td>\n",
       "      <td>0.002414</td>\n",
       "      <td>0.065186</td>\n",
       "      <td>0.000000</td>\n",
       "      <td>0.007339</td>\n",
       "      <td>0.007379</td>\n",
       "    </tr>\n",
       "    <tr>\n",
       "      <th>O</th>\n",
       "      <td>0.001046</td>\n",
       "      <td>0.000799</td>\n",
       "      <td>0.000539</td>\n",
       "      <td>0.003279</td>\n",
       "      <td>0.000000</td>\n",
       "      <td>0.000828</td>\n",
       "      <td>0.001207</td>\n",
       "      <td>0.000292</td>\n",
       "      <td>0.047985</td>\n",
       "      <td>0.000688</td>\n",
       "      <td>0.001965</td>\n",
       "    </tr>\n",
       "    <tr>\n",
       "      <th>SI</th>\n",
       "      <td>0.057759</td>\n",
       "      <td>0.026221</td>\n",
       "      <td>0.027889</td>\n",
       "      <td>0.091790</td>\n",
       "      <td>0.018868</td>\n",
       "      <td>0.010982</td>\n",
       "      <td>0.018105</td>\n",
       "      <td>0.019000</td>\n",
       "      <td>0.001919</td>\n",
       "      <td>0.188016</td>\n",
       "      <td>0.050509</td>\n",
       "    </tr>\n",
       "    <tr>\n",
       "      <th>SL</th>\n",
       "      <td>0.073942</td>\n",
       "      <td>0.047030</td>\n",
       "      <td>0.026932</td>\n",
       "      <td>0.258130</td>\n",
       "      <td>0.028786</td>\n",
       "      <td>0.055798</td>\n",
       "      <td>0.027761</td>\n",
       "      <td>0.009939</td>\n",
       "      <td>0.015355</td>\n",
       "      <td>0.053096</td>\n",
       "      <td>0.290401</td>\n",
       "    </tr>\n",
       "  </tbody>\n",
       "</table>\n",
       "</div>"
      ],
      "text/plain": [
       "          CH        CU        FC        FF        FS        FT        IN  \\\n",
       "CH  0.197726  0.050756  0.040697  0.167700  0.009434  0.057975  0.039831   \n",
       "CU  0.069199  0.123164  0.048297  0.131501  0.017417  0.040307  0.010863   \n",
       "FC  0.049946  0.042238  0.144892  0.094858  0.011127  0.022822  0.013277   \n",
       "FF  0.186635  0.132792  0.079718  0.729164  0.070150  0.114693  0.082076   \n",
       "FS  0.009313  0.009495  0.003950  0.025486  0.070876  0.005644  0.004828   \n",
       "FT  0.085103  0.051644  0.026932  0.203109  0.019352  0.168037  0.026554   \n",
       "IN  0.001535  0.000799  0.000778  0.003480  0.000242  0.000706  0.687387   \n",
       "KC  0.014126  0.001908  0.004070  0.021532  0.000242  0.005644  0.002414   \n",
       "O   0.001046  0.000799  0.000539  0.003279  0.000000  0.000828  0.001207   \n",
       "SI  0.057759  0.026221  0.027889  0.091790  0.018868  0.010982  0.018105   \n",
       "SL  0.073942  0.047030  0.026932  0.258130  0.028786  0.055798  0.027761   \n",
       "\n",
       "          KC         O        SI        SL  \n",
       "CH  0.033031  0.011516  0.041284  0.055741  \n",
       "CU  0.002338  0.011516  0.026663  0.059807  \n",
       "FC  0.016077  0.005758  0.030963  0.034221  \n",
       "FF  0.073663  0.049904  0.052179  0.243432  \n",
       "FS  0.000292  0.000000  0.009748  0.011742  \n",
       "FT  0.018123  0.023033  0.008716  0.078951  \n",
       "IN  0.000000  0.001919  0.000688  0.001736  \n",
       "KC  0.065186  0.000000  0.007339  0.007379  \n",
       "O   0.000292  0.047985  0.000688  0.001965  \n",
       "SI  0.019000  0.001919  0.188016  0.050509  \n",
       "SL  0.009939  0.015355  0.053096  0.290401  "
      ]
     },
     "execution_count": 62,
     "metadata": {},
     "output_type": "execute_result"
    }
   ],
   "source": [
    "# Build the confusion matrix, with actual pitch_type as the rows, and predicted pitch_type as the columns\n",
    "cm = confusion_matrix(y_test, rfc_model_predictions)\n",
    "# Convert numbers to recall (correctly predicted pitches of the type divided by total pitches of the type)\n",
    "cm = cm.astype('float') / cm.sum(axis = 1)\n",
    "# Relabel the axes\n",
    "cm = pd.DataFrame(cm, columns = rfc_model.classes_)\n",
    "cm = cm.rename(index = dict(zip(cm.index, rfc_model.classes_)))\n",
    "cm"
   ]
  },
  {
   "cell_type": "markdown",
   "metadata": {},
   "source": [
    "The model has trouble predicting some of the less-common pitch types, such as the Splitter (FS), the Knuckle-curve (KC), and Other (O). It also sometimes confuses Four-Seam Fastballs (FF) with Sliders (SL), which are the two most-common pitch types."
   ]
  },
  {
   "cell_type": "markdown",
   "metadata": {},
   "source": [
    "### Feature importance chart"
   ]
  },
  {
   "cell_type": "code",
   "execution_count": 63,
   "metadata": {},
   "outputs": [
    {
     "data": {
      "text/plain": [
       "<BarContainer object of 13 artists>"
      ]
     },
     "execution_count": 63,
     "metadata": {},
     "output_type": "execute_result"
    },
    {
     "data": {
      "image/png": "[encoded data removed]",
      "text/plain": [
       "<Figure size 432x288 with 1 Axes>"
      ]
     },
     "metadata": {
      "needs_background": "light"
     },
     "output_type": "display_data"
    }
   ],
   "source": [
    "sorted_idx = rfc_model.feature_importances_.argsort()\n",
    "plt.barh(X_train.columns[sorted_idx], rfc_model.feature_importances_[sorted_idx])"
   ]
  },
  {
   "cell_type": "markdown",
   "metadata": {},
   "source": [
    "# Create a Data Frame with probabilities for each pitch type"
   ]
  },
  {
   "cell_type": "code",
   "execution_count": 64,
   "metadata": {},
   "outputs": [
    {
     "data": {
      "text/plain": [
       "array([[0.06, 0.08, 0.05, ..., 0.  , 0.09, 0.18],\n",
       "       [0.27, 0.07, 0.06, ..., 0.  , 0.22, 0.03],\n",
       "       [0.05, 0.02, 0.09, ..., 0.  , 0.06, 0.31],\n",
       "       ...,\n",
       "       [0.36, 0.11, 0.04, ..., 0.  , 0.03, 0.12],\n",
       "       [0.06, 0.05, 0.04, ..., 0.  , 0.06, 0.06],\n",
       "       [0.07, 0.04, 0.03, ..., 0.  , 0.07, 0.26]])"
      ]
     },
     "execution_count": 64,
     "metadata": {},
     "output_type": "execute_result"
    }
   ],
   "source": [
    "# Get the predicted probabilities for each pitch type for all rows in the test set\n",
    "probabilities = rfc_model.predict_proba(X_test)\n",
    "probabilities"
   ]
  },
  {
   "cell_type": "code",
   "execution_count": 65,
   "metadata": {},
   "outputs": [
    {
     "data": {
      "text/html": [
       "<div>\n",
       "<style scoped>\n",
       "    .dataframe tbody tr th:only-of-type {\n",
       "        vertical-align: middle;\n",
       "    }\n",
       "\n",
       "    .dataframe tbody tr th {\n",
       "        vertical-align: top;\n",
       "    }\n",
       "\n",
       "    .dataframe thead th {\n",
       "        text-align: right;\n",
       "    }\n",
       "</style>\n",
       "<table border=\"1\" class=\"dataframe\">\n",
       "  <thead>\n",
       "    <tr style=\"text-align: right;\">\n",
       "      <th></th>\n",
       "      <th>CH</th>\n",
       "      <th>CU</th>\n",
       "      <th>FC</th>\n",
       "      <th>FF</th>\n",
       "      <th>FS</th>\n",
       "      <th>FT</th>\n",
       "      <th>IN</th>\n",
       "      <th>KC</th>\n",
       "      <th>O</th>\n",
       "      <th>SI</th>\n",
       "      <th>SL</th>\n",
       "      <th>predicted_pitch_type</th>\n",
       "      <th>actual_pitch_type</th>\n",
       "    </tr>\n",
       "  </thead>\n",
       "  <tbody>\n",
       "    <tr>\n",
       "      <th>0</th>\n",
       "      <td>0.06</td>\n",
       "      <td>0.08</td>\n",
       "      <td>0.05</td>\n",
       "      <td>0.46</td>\n",
       "      <td>0.00</td>\n",
       "      <td>0.08</td>\n",
       "      <td>0.00</td>\n",
       "      <td>0.00</td>\n",
       "      <td>0.0</td>\n",
       "      <td>0.09</td>\n",
       "      <td>0.18</td>\n",
       "      <td>FF</td>\n",
       "      <td>FF</td>\n",
       "    </tr>\n",
       "    <tr>\n",
       "      <th>1</th>\n",
       "      <td>0.27</td>\n",
       "      <td>0.07</td>\n",
       "      <td>0.06</td>\n",
       "      <td>0.26</td>\n",
       "      <td>0.02</td>\n",
       "      <td>0.07</td>\n",
       "      <td>0.00</td>\n",
       "      <td>0.00</td>\n",
       "      <td>0.0</td>\n",
       "      <td>0.22</td>\n",
       "      <td>0.03</td>\n",
       "      <td>CH</td>\n",
       "      <td>SI</td>\n",
       "    </tr>\n",
       "    <tr>\n",
       "      <th>2</th>\n",
       "      <td>0.05</td>\n",
       "      <td>0.02</td>\n",
       "      <td>0.09</td>\n",
       "      <td>0.44</td>\n",
       "      <td>0.00</td>\n",
       "      <td>0.03</td>\n",
       "      <td>0.00</td>\n",
       "      <td>0.00</td>\n",
       "      <td>0.0</td>\n",
       "      <td>0.06</td>\n",
       "      <td>0.31</td>\n",
       "      <td>FF</td>\n",
       "      <td>SL</td>\n",
       "    </tr>\n",
       "    <tr>\n",
       "      <th>3</th>\n",
       "      <td>0.01</td>\n",
       "      <td>0.07</td>\n",
       "      <td>0.05</td>\n",
       "      <td>0.58</td>\n",
       "      <td>0.00</td>\n",
       "      <td>0.09</td>\n",
       "      <td>0.00</td>\n",
       "      <td>0.00</td>\n",
       "      <td>0.0</td>\n",
       "      <td>0.14</td>\n",
       "      <td>0.06</td>\n",
       "      <td>FF</td>\n",
       "      <td>FT</td>\n",
       "    </tr>\n",
       "    <tr>\n",
       "      <th>4</th>\n",
       "      <td>0.05</td>\n",
       "      <td>0.00</td>\n",
       "      <td>0.05</td>\n",
       "      <td>0.29</td>\n",
       "      <td>0.00</td>\n",
       "      <td>0.06</td>\n",
       "      <td>0.49</td>\n",
       "      <td>0.00</td>\n",
       "      <td>0.0</td>\n",
       "      <td>0.06</td>\n",
       "      <td>0.00</td>\n",
       "      <td>IN</td>\n",
       "      <td>IN</td>\n",
       "    </tr>\n",
       "    <tr>\n",
       "      <th>...</th>\n",
       "      <td>...</td>\n",
       "      <td>...</td>\n",
       "      <td>...</td>\n",
       "      <td>...</td>\n",
       "      <td>...</td>\n",
       "      <td>...</td>\n",
       "      <td>...</td>\n",
       "      <td>...</td>\n",
       "      <td>...</td>\n",
       "      <td>...</td>\n",
       "      <td>...</td>\n",
       "      <td>...</td>\n",
       "      <td>...</td>\n",
       "    </tr>\n",
       "    <tr>\n",
       "      <th>266297</th>\n",
       "      <td>0.09</td>\n",
       "      <td>0.14</td>\n",
       "      <td>0.02</td>\n",
       "      <td>0.27</td>\n",
       "      <td>0.00</td>\n",
       "      <td>0.30</td>\n",
       "      <td>0.02</td>\n",
       "      <td>0.00</td>\n",
       "      <td>0.0</td>\n",
       "      <td>0.14</td>\n",
       "      <td>0.02</td>\n",
       "      <td>FT</td>\n",
       "      <td>CU</td>\n",
       "    </tr>\n",
       "    <tr>\n",
       "      <th>266298</th>\n",
       "      <td>0.12</td>\n",
       "      <td>0.06</td>\n",
       "      <td>0.02</td>\n",
       "      <td>0.65</td>\n",
       "      <td>0.00</td>\n",
       "      <td>0.05</td>\n",
       "      <td>0.00</td>\n",
       "      <td>0.00</td>\n",
       "      <td>0.0</td>\n",
       "      <td>0.00</td>\n",
       "      <td>0.10</td>\n",
       "      <td>FF</td>\n",
       "      <td>FF</td>\n",
       "    </tr>\n",
       "    <tr>\n",
       "      <th>266299</th>\n",
       "      <td>0.36</td>\n",
       "      <td>0.11</td>\n",
       "      <td>0.04</td>\n",
       "      <td>0.22</td>\n",
       "      <td>0.01</td>\n",
       "      <td>0.10</td>\n",
       "      <td>0.00</td>\n",
       "      <td>0.01</td>\n",
       "      <td>0.0</td>\n",
       "      <td>0.03</td>\n",
       "      <td>0.12</td>\n",
       "      <td>CH</td>\n",
       "      <td>SL</td>\n",
       "    </tr>\n",
       "    <tr>\n",
       "      <th>266300</th>\n",
       "      <td>0.06</td>\n",
       "      <td>0.05</td>\n",
       "      <td>0.04</td>\n",
       "      <td>0.51</td>\n",
       "      <td>0.00</td>\n",
       "      <td>0.17</td>\n",
       "      <td>0.04</td>\n",
       "      <td>0.01</td>\n",
       "      <td>0.0</td>\n",
       "      <td>0.06</td>\n",
       "      <td>0.06</td>\n",
       "      <td>FF</td>\n",
       "      <td>FF</td>\n",
       "    </tr>\n",
       "    <tr>\n",
       "      <th>266301</th>\n",
       "      <td>0.07</td>\n",
       "      <td>0.04</td>\n",
       "      <td>0.03</td>\n",
       "      <td>0.24</td>\n",
       "      <td>0.00</td>\n",
       "      <td>0.28</td>\n",
       "      <td>0.00</td>\n",
       "      <td>0.01</td>\n",
       "      <td>0.0</td>\n",
       "      <td>0.07</td>\n",
       "      <td>0.26</td>\n",
       "      <td>FT</td>\n",
       "      <td>SL</td>\n",
       "    </tr>\n",
       "  </tbody>\n",
       "</table>\n",
       "<p>266302 rows × 13 columns</p>\n",
       "</div>"
      ],
      "text/plain": [
       "          CH    CU    FC    FF    FS    FT    IN    KC    O    SI    SL  \\\n",
       "0       0.06  0.08  0.05  0.46  0.00  0.08  0.00  0.00  0.0  0.09  0.18   \n",
       "1       0.27  0.07  0.06  0.26  0.02  0.07  0.00  0.00  0.0  0.22  0.03   \n",
       "2       0.05  0.02  0.09  0.44  0.00  0.03  0.00  0.00  0.0  0.06  0.31   \n",
       "3       0.01  0.07  0.05  0.58  0.00  0.09  0.00  0.00  0.0  0.14  0.06   \n",
       "4       0.05  0.00  0.05  0.29  0.00  0.06  0.49  0.00  0.0  0.06  0.00   \n",
       "...      ...   ...   ...   ...   ...   ...   ...   ...  ...   ...   ...   \n",
       "266297  0.09  0.14  0.02  0.27  0.00  0.30  0.02  0.00  0.0  0.14  0.02   \n",
       "266298  0.12  0.06  0.02  0.65  0.00  0.05  0.00  0.00  0.0  0.00  0.10   \n",
       "266299  0.36  0.11  0.04  0.22  0.01  0.10  0.00  0.01  0.0  0.03  0.12   \n",
       "266300  0.06  0.05  0.04  0.51  0.00  0.17  0.04  0.01  0.0  0.06  0.06   \n",
       "266301  0.07  0.04  0.03  0.24  0.00  0.28  0.00  0.01  0.0  0.07  0.26   \n",
       "\n",
       "       predicted_pitch_type actual_pitch_type  \n",
       "0                        FF                FF  \n",
       "1                        CH                SI  \n",
       "2                        FF                SL  \n",
       "3                        FF                FT  \n",
       "4                        IN                IN  \n",
       "...                     ...               ...  \n",
       "266297                   FT                CU  \n",
       "266298                   FF                FF  \n",
       "266299                   CH                SL  \n",
       "266300                   FF                FF  \n",
       "266301                   FT                SL  \n",
       "\n",
       "[266302 rows x 13 columns]"
      ]
     },
     "execution_count": 65,
     "metadata": {},
     "output_type": "execute_result"
    }
   ],
   "source": [
    "# Combine explanatory variables with pitch_type probabilities\n",
    "fields_and_probs = X_test.reset_index(drop = True).merge(pd.DataFrame(probabilities, columns = rfc_model.classes_),\n",
    "                                                         left_index = True, right_index = True)\n",
    "# Add predicted pitch_type (pitch_type with the highest probability)\n",
    "fields_and_probs = fields_and_probs.merge(pd.DataFrame(rfc_model_predictions, columns = ['predicted_pitch_type']),\n",
    "                                          left_index = True, right_index = True)\n",
    "# Add actual pitch_type\n",
    "fields_and_probs = fields_and_probs.merge(pd.DataFrame(y_test).reset_index(drop = True).rename(columns = {'pitch_type':'actual_pitch_type'}),\n",
    "                                          left_index = True, right_index = True)\n",
    "# Display the probability columns, as well as the predicted and actual pitch_type columns\n",
    "fields_and_probs.iloc[:, -13:]"
   ]
  },
  {
   "cell_type": "code",
   "execution_count": 66,
   "metadata": {},
   "outputs": [
    {
     "data": {
      "text/plain": [
       "0.38740227260779114"
      ]
     },
     "execution_count": 66,
     "metadata": {},
     "output_type": "execute_result"
    }
   ],
   "source": [
    "# Confirm model accuracy\n",
    "(fields_and_probs['predicted_pitch_type'] == fields_and_probs['actual_pitch_type']).mean()"
   ]
  },
  {
   "cell_type": "markdown",
   "metadata": {},
   "source": [
    "# Next steps"
   ]
  },
  {
   "cell_type": "markdown",
   "metadata": {},
   "source": [
    "## How to improve the model"
   ]
  },
  {
   "cell_type": "markdown",
   "metadata": {},
   "source": [
    "- Make balls into separate dummy variables.\n",
    "    - The difference between throwing a ball when there are 0 or 1 balls may be small, but the difference between throwing a ball when there are 2 or 3 balls is much larger.\n",
    "    - Consider doing something similar for strikes and outs\n",
    "- If certain runners are more prone to stealing bases than others, then knowing exactly which players are on base could be useful. For example, if the runner on 1st is likely to steal 2nd, then a fastball or pitchout is probably more likely.\n",
    "    - The gain from doing so in this dataset is probably negligible\n",
    "- Raise threshold on type_confidence, or only take rows with full confidence\n",
    "    - This would lead to more confidence that the data is labeled correctly, but would reduce dataset size by nearly half\n",
    "- Change the train/test split proportions\n",
    "- Try scaling/standardizing numeric features (such as batter height and pitch count)\n",
    "    - Ranges in this data are generally small, so gains would probably be small\n",
    "    - Could result in minor improvements to logistic models\n",
    "- Experiment with more balancing of pitch_type classifications"
   ]
  },
  {
   "cell_type": "markdown",
   "metadata": {},
   "source": [
    "## Other notes"
   ]
  },
  {
   "cell_type": "markdown",
   "metadata": {},
   "source": [
    "- Model may not be good for the upcoming MLB season, due to many rule changes, as well as other evolutions in strategies or pitching techniques\n",
    "    - Interleague play is far more common now than it was in 2011 (in 2013, the Astros switched to the AL, resulting in an odd number of teams in each league)\n",
    "    - The addition of pitching timers and pickoff limits have resulted in more stolen base attempts"
   ]
  }
 ],
 "metadata": {
  "kernelspec": {
   "display_name": "Python 3",
   "language": "python",
   "name": "python3"
  },
  "language_info": {
   "codemirror_mode": {
    "name": "ipython",
    "version": 3
   },
   "file_extension": ".py",
   "mimetype": "text/x-python",
   "name": "python",
   "nbconvert_exporter": "python",
   "pygments_lexer": "ipython3",
   "version": "3.7.4"
  }
 },
 "nbformat": 4,
 "nbformat_minor": 2
}
